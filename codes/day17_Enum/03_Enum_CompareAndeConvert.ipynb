{
 "cells": [
  {
   "cell_type": "markdown",
   "metadata": {
    "collapsed": true,
    "pycharm": {
     "name": "#%% md\n"
    }
   },
   "source": [
    "### 枚举比较\n",
    "\n",
    "- 等值比较 ==\n",
    "- 身份比较 is\n",
    "- 不能比较大小\n"
   ]
  },
  {
   "cell_type": "code",
   "execution_count": 24,
   "outputs": [
    {
     "name": "stdout",
     "text": [
      "Vip.VIP1\n",
      "Vip.VIP2\n",
      "Vip.VIP1 == Vip.VIP1结果为: True\n",
      "Vip.VIP1 == Vip.VIP2结果为: False\n",
      "Vip.VIP1 == 1结果为: False\n",
      "Vip.VIP1.value == 1结果为: True\n"
     ],
     "output_type": "stream"
    }
   ],
   "source": [
    "from enum import Enum\n",
    "# 等值比较\n",
    "class Vip(Enum):\n",
    "    VIP1 = 1\n",
    "    VIP2 = 2\n",
    "    VIP3 = 3\n",
    "\n",
    "print(Vip.VIP1)\n",
    "print(Vip.VIP2)\n",
    "\n",
    "print(\"Vip.VIP1 == Vip.VIP1结果为:\", Vip.VIP1 == Vip.VIP1)\n",
    "print(\"Vip.VIP1 == Vip.VIP2结果为:\", Vip.VIP1 == Vip.VIP2)\n",
    "\n",
    "print(\"Vip.VIP1 == 1结果为:\", Vip.VIP1 == 1)\n",
    "\n",
    "#  正确:\n",
    "print(\"Vip.VIP1.value == 1结果为:\", Vip.VIP1.value == 1)"
   ],
   "metadata": {
    "collapsed": false,
    "pycharm": {
     "name": "#%%\n",
     "is_executing": false
    }
   }
  },
  {
   "cell_type": "code",
   "execution_count": 21,
   "outputs": [
    {
     "name": "stdout",
     "text": [
      "Vip.vip1 == Vip.vip1结果为: True\n",
      "Vip.vip1 == Vip_new.vip1结果为: False\n"
     ],
     "output_type": "stream"
    }
   ],
   "source": [
    "# 身份比较\n",
    "print(\"Vip.VIP1 == Vip.VIP1结果为:\", Vip.VIP1 is Vip.VIP1)\n",
    "\n",
    "# 不同枚举之间的比较\n",
    "class Vip_New(Enum):\n",
    "    VIP1 = 1\n",
    "    VIP2 = 2\n",
    "    VIP3 = 3\n",
    "\n",
    "print(\"Vip.VIP1 == Vip_new.VIP1结果为:\", Vip.VIP1 is Vip_New.VIP1)"
   ],
   "metadata": {
    "collapsed": false,
    "pycharm": {
     "name": "#%%\n",
     "is_executing": false
    }
   }
  },
  {
   "cell_type": "code",
   "execution_count": 16,
   "outputs": [
    {
     "traceback": [
      "\u001b[1;31m---------------------------------------------------------------------------\u001b[0m",
      "\u001b[1;31mTypeError\u001b[0m                                 Traceback (most recent call last)",
      "\u001b[1;32m<ipython-input-16-39e22fdba409>\u001b[0m in \u001b[0;36m<module>\u001b[1;34m\u001b[0m\n\u001b[0;32m      1\u001b[0m \u001b[1;31m# 不能进行大小比较\u001b[0m\u001b[1;33m\u001b[0m\u001b[1;33m\u001b[0m\u001b[1;33m\u001b[0m\u001b[0m\n\u001b[1;32m----> 2\u001b[1;33m \u001b[0mprint\u001b[0m\u001b[1;33m(\u001b[0m\u001b[1;34m\"Vip.vip1 < Vip.vip2结果为:\"\u001b[0m\u001b[1;33m,\u001b[0m \u001b[0mVip\u001b[0m\u001b[1;33m.\u001b[0m\u001b[0mvip1\u001b[0m \u001b[1;33m<\u001b[0m \u001b[0mVip\u001b[0m\u001b[1;33m.\u001b[0m\u001b[0mvip2\u001b[0m\u001b[1;33m)\u001b[0m\u001b[1;33m\u001b[0m\u001b[1;33m\u001b[0m\u001b[0m\n\u001b[0m\u001b[0;32m      3\u001b[0m \u001b[1;33m\u001b[0m\u001b[0m\n",
      "\u001b[1;31mTypeError\u001b[0m: '<' not supported between instances of 'Vip' and 'Vip'"
     ],
     "ename": "TypeError",
     "evalue": "'<' not supported between instances of 'Vip' and 'Vip'",
     "output_type": "error"
    }
   ],
   "source": [
    "# 不能进行大小比较\n",
    "print(\"Vip.VIP1 < Vip.VIP2结果为:\", Vip.VIP1 < Vip.VIP2)"
   ],
   "metadata": {
    "collapsed": false,
    "pycharm": {
     "name": "#%%\n",
     "is_executing": false
    }
   }
  },
  {
   "cell_type": "code",
   "execution_count": 15,
   "outputs": [
    {
     "name": "stdout",
     "text": [
      " Vip.vip1.value < Vip.vip2.value结果为: True\n"
     ],
     "output_type": "stream"
    }
   ],
   "source": [
    "# 正确:\n",
    "print(\" Vip.VIP1.value < Vip.VIP2.value结果为:\",Vip.VIP1.value < Vip.VIP2.value)\n"
   ],
   "metadata": {
    "collapsed": false,
    "pycharm": {
     "name": "#%%\n",
     "is_executing": false
    }
   }
  },
  {
   "cell_type": "markdown",
   "source": [
    "### 枚举转换,常用\n",
    "\n",
    "枚举值访问"
   ],
   "metadata": {
    "collapsed": false,
    "pycharm": {
     "name": "#%% md\n"
    }
   }
  },
  {
   "cell_type": "code",
   "execution_count": 23,
   "outputs": [
    {
     "name": "stdout",
     "text": [
      "VIP1的名称为: Vip.vip1\n"
     ],
     "output_type": "stream"
    }
   ],
   "source": [
    "# 假设从数据库获取了会员1的编码\n",
    "VIP1_CODE = 1\n",
    "print(\"VIP1的名称为:\", Vip(VIP1_CODE))"
   ],
   "metadata": {
    "collapsed": false,
    "pycharm": {
     "name": "#%%\n",
     "is_executing": false
    }
   }
  }
 ],
 "metadata": {
  "kernelspec": {
   "display_name": "Python 3",
   "language": "python",
   "name": "python3"
  },
  "language_info": {
   "codemirror_mode": {
    "name": "ipython",
    "version": 2
   },
   "file_extension": ".py",
   "mimetype": "text/x-python",
   "name": "python",
   "nbconvert_exporter": "python",
   "pygments_lexer": "ipython2",
   "version": "2.7.6"
  },
  "pycharm": {
   "stem_cell": {
    "cell_type": "raw",
    "source": [],
    "metadata": {
     "collapsed": false
    }
   }
  }
 },
 "nbformat": 4,
 "nbformat_minor": 0
}