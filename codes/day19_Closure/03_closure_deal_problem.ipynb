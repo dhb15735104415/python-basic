{
 "cells": [
  {
   "cell_type": "markdown",
   "source": [
    "### 利用闭包解决一个问题\n",
    "\n",
    "问题:起始位置x=0,每次新赋值都会累加,并返回累加值\n",
    "\n",
    "x = 0\n",
    "3 -> result = 3\n",
    "\n",
    "5 -> result = 8\n",
    "\n",
    "9 -> result = 17"
   ],
   "metadata": {
    "collapsed": false,
    "pycharm": {
     "name": "#%% md\n"
    }
   }
  },
  {
   "cell_type": "markdown",
   "source": [
    "#### 非闭包解决"
   ],
   "metadata": {
    "collapsed": false,
    "pycharm": {
     "name": "#%% md\n"
    }
   }
  },
  {
   "cell_type": "code",
   "execution_count": 51,
   "metadata": {
    "collapsed": true,
    "pycharm": {
     "is_executing": false
    }
   },
   "outputs": [
    {
     "traceback": [
      "\u001b[1;31m---------------------------------------------------------------------------\u001b[0m",
      "\u001b[1;31mUnboundLocalError\u001b[0m                         Traceback (most recent call last)",
      "\u001b[1;32m<ipython-input-51-08777366ade4>\u001b[0m in \u001b[0;36m<module>\u001b[1;34m\u001b[0m\n\u001b[0;32m      8\u001b[0m     \u001b[1;32mreturn\u001b[0m \u001b[0mnew_pos\u001b[0m\u001b[1;33m\u001b[0m\u001b[1;33m\u001b[0m\u001b[0m\n\u001b[0;32m      9\u001b[0m \u001b[1;33m\u001b[0m\u001b[0m\n\u001b[1;32m---> 10\u001b[1;33m \u001b[0mprint\u001b[0m\u001b[1;33m(\u001b[0m\u001b[0mgo\u001b[0m\u001b[1;33m(\u001b[0m\u001b[1;36m3\u001b[0m\u001b[1;33m)\u001b[0m\u001b[1;33m)\u001b[0m\u001b[1;33m\u001b[0m\u001b[1;33m\u001b[0m\u001b[0m\n\u001b[0m\u001b[0;32m     11\u001b[0m \u001b[0mprint\u001b[0m\u001b[1;33m(\u001b[0m\u001b[0mgo\u001b[0m\u001b[1;33m(\u001b[0m\u001b[1;36m5\u001b[0m\u001b[1;33m)\u001b[0m\u001b[1;33m)\u001b[0m\u001b[1;33m\u001b[0m\u001b[1;33m\u001b[0m\u001b[0m\n\u001b[0;32m     12\u001b[0m \u001b[0mprint\u001b[0m\u001b[1;33m(\u001b[0m\u001b[0mgo\u001b[0m\u001b[1;33m(\u001b[0m\u001b[1;36m9\u001b[0m\u001b[1;33m)\u001b[0m\u001b[1;33m)\u001b[0m\u001b[1;33m\u001b[0m\u001b[1;33m\u001b[0m\u001b[0m\n",
      "\u001b[1;32m<ipython-input-51-08777366ade4>\u001b[0m in \u001b[0;36mgo\u001b[1;34m(step)\u001b[0m\n\u001b[0;32m      4\u001b[0m \u001b[1;33m\u001b[0m\u001b[0m\n\u001b[0;32m      5\u001b[0m \u001b[1;32mdef\u001b[0m \u001b[0mgo\u001b[0m\u001b[1;33m(\u001b[0m\u001b[0mstep\u001b[0m\u001b[1;33m)\u001b[0m\u001b[1;33m:\u001b[0m\u001b[1;33m\u001b[0m\u001b[1;33m\u001b[0m\u001b[0m\n\u001b[1;32m----> 6\u001b[1;33m     \u001b[0mnew_pos\u001b[0m \u001b[1;33m=\u001b[0m \u001b[0morigin\u001b[0m \u001b[1;33m+\u001b[0m \u001b[0mstep\u001b[0m\u001b[1;33m\u001b[0m\u001b[1;33m\u001b[0m\u001b[0m\n\u001b[0m\u001b[0;32m      7\u001b[0m     \u001b[0morigin\u001b[0m \u001b[1;33m=\u001b[0m \u001b[0mnew_pos\u001b[0m\u001b[1;33m\u001b[0m\u001b[1;33m\u001b[0m\u001b[0m\n\u001b[0;32m      8\u001b[0m     \u001b[1;32mreturn\u001b[0m \u001b[0mnew_pos\u001b[0m\u001b[1;33m\u001b[0m\u001b[1;33m\u001b[0m\u001b[0m\n",
      "\u001b[1;31mUnboundLocalError\u001b[0m: local variable 'origin' referenced before assignment"
     ],
     "ename": "UnboundLocalError",
     "evalue": "local variable 'origin' referenced before assignment",
     "output_type": "error"
    }
   ],
   "source": [
    "origin = 0\n",
    "\n",
    "def go(step):\n",
    "    new_pos = origin + step\n",
    "    origin = new_pos\n",
    "    return new_pos\n",
    "\n",
    "print(go(3))\n",
    "print(go(5))\n",
    "print(go(9))\n",
    "\n",
    "'''\n",
    "    执行报错:\n",
    "    UnboundLocalError: local variable 'origin' referenced before assignment\n",
    "    赋值之前引用的局部变量“ origin”\n",
    "    \n",
    "    在Python中,变量的查找顺序可以解释这个报错.\n",
    "        函数外的origin = 0,这行代码表示,origin为全局变量\n",
    "        在go()中,origin = new_pos为局部变量\n",
    "        new_pos = origin + step,这行表示要将局部变量origin的值参与运算后赋值给new_pos\n",
    "        但是new_pos赋值操作却在定义局部变量origin之前,因此会报错\n",
    "'''"
   ]
  },
  {
   "cell_type": "markdown",
   "source": [
    "如何证明呢? 思考下这个问题.....\n"
   ],
   "metadata": {
    "collapsed": false,
    "pycharm": {
     "name": "#%% md\n"
    }
   }
  },
  {
   "cell_type": "code",
   "execution_count": 55,
   "outputs": [
    {
     "name": "stdout",
     "text": [
      "3\n",
      "5\n",
      "9\n"
     ],
     "output_type": "stream"
    }
   ],
   "source": [
    "origin = 0\n",
    "\n",
    "def go_new(step):\n",
    "    new_pos = origin + step\n",
    "    # origin = new_pos  注释掉这行代码就不会报错了,证明之前的判断是正确的\n",
    "    return new_pos \n",
    "\n",
    "print(go_new(3))\n",
    "print(go_new(5))\n",
    "print(go_new(9))"
   ],
   "metadata": {
    "collapsed": false,
    "pycharm": {
     "name": "#%%\n",
     "is_executing": false
    }
   }
  },
  {
   "cell_type": "markdown",
   "source": [
    "纠正问题,让origin不是局部变量就可以了,加个global\n",
    "\n",
    "不能使用nonlocal来声明,因为nonlocal声明的变量是***非全局作用域的变量***,***要求声明的变量已存在***,并不会创建新的变量"
   ],
   "metadata": {
    "collapsed": false,
    "pycharm": {
     "name": "#%% md\n"
    }
   }
  },
  {
   "cell_type": "code",
   "execution_count": 59,
   "outputs": [
    {
     "name": "stdout",
     "text": [
      "3\n",
      "8\n",
      "17\n"
     ],
     "output_type": "stream"
    }
   ],
   "source": [
    "origin = 0\n",
    "\n",
    "def go_new(step):\n",
    "    global origin\n",
    "    new_pos = origin + step\n",
    "    origin = new_pos \n",
    "    return new_pos \n",
    "\n",
    "print(go_new(3))\n",
    "print(go_new(5))\n",
    "print(go_new(9))"
   ],
   "metadata": {
    "collapsed": false,
    "pycharm": {
     "name": "#%%\n",
     "is_executing": false
    }
   }
  },
  {
   "cell_type": "markdown",
   "source": [
    "#### 用闭包思想解决这个问题\n",
    "原理:\n",
    "在使用闭包的过程中,一旦外函数被调用一次返回了内函数的引用,虽然每次调用内函数,是开启一个函数执行过后消亡,但是闭包变量实际上只有一份,每次开启内函数都在使用同一份闭包变量"
   ],
   "metadata": {
    "collapsed": false,
    "pycharm": {
     "name": "#%% md\n"
    }
   }
  },
  {
   "cell_type": "code",
   "execution_count": 17,
   "outputs": [
    {
     "name": "stdout",
     "text": [
      "3\n",
      "8\n",
      "17\n"
     ],
     "output_type": "stream"
    }
   ],
   "source": [
    "def go_outer():\n",
    "    position = 0\n",
    "    def go_inner(step):\n",
    "        nonlocal position\n",
    "        position += step\n",
    "        return position\n",
    "    return go_inner\n",
    "\n",
    "test = go_outer()\n",
    "print(test(3))\n",
    "print(test(5))\n",
    "print(test(9))"
   ],
   "metadata": {
    "collapsed": false,
    "pycharm": {
     "name": "#%%\n",
     "is_executing": false
    }
   }
  },
  {
   "cell_type": "code",
   "execution_count": 20,
   "outputs": [
    {
     "name": "stdout",
     "text": [
      "3\n",
      "position: 3\n",
      "8\n",
      "position: 8\n",
      "17\n",
      "position: 17\n",
      "--------------分隔符--------------------\n",
      "18\n"
     ],
     "output_type": "stream"
    }
   ],
   "source": [
    "# 等价于以下代码:\n",
    "position = 0\n",
    "def go_outer():\n",
    "    def go_inner(step):\n",
    "        global position  # 不推荐,全局变量尽量少定义,推荐用nonlocal\n",
    "        position += step\n",
    "        return position\n",
    "    return go_inner\n",
    "\n",
    "test = go_outer()\n",
    "print(test(3))\n",
    "print(\"position:\", position)\n",
    "print(test(5))\n",
    "print(\"position:\", position)\n",
    "print(test(9))\n",
    "print(\"position:\", position)\n",
    "\n",
    "print(\"--------------分隔符--------------------\")\n",
    "# 不推荐原因:全局变量很容易在其他函数在也被使用,如果使用同名变量,会变量污染,得不到想要的结果\n",
    "def go3():\n",
    "    global position\n",
    "    position +=1 \n",
    "    return position\n",
    "print(go3())  # 结果为18,在上一个函数作用的基础上+1\n"
   ],
   "metadata": {
    "collapsed": false,
    "pycharm": {
     "name": "#%%\n",
     "is_executing": false
    }
   }
  },
  {
   "cell_type": "code",
   "execution_count": 22,
   "outputs": [
    {
     "name": "stdout",
     "text": [
      "3\n",
      "origin: 0\n",
      "8\n",
      "origin: 0\n",
      "17\n",
      "origin: 0\n"
     ],
     "output_type": "stream"
    }
   ],
   "source": [
    "# 等价于以下代码:\n",
    "origin = 0\n",
    "def go_outer(position):\n",
    "    def go_inner(step):\n",
    "        nonlocal position\n",
    "        new_pos = position + step\n",
    "        position = new_pos\n",
    "        return new_pos\n",
    "    return go_inner\n",
    "\n",
    "test = go_outer(origin)\n",
    "print(test(3))\n",
    "print(\"origin:\", origin)\n",
    "print(test(5))\n",
    "print(\"origin:\", origin)\n",
    "print(test(9))\n",
    "print(\"origin:\", origin)"
   ],
   "metadata": {
    "collapsed": false,
    "pycharm": {
     "name": "#%%\n",
     "is_executing": false
    }
   }
  }
 ],
 "metadata": {
  "kernelspec": {
   "display_name": "Python 3",
   "language": "python",
   "name": "python3"
  },
  "language_info": {
   "codemirror_mode": {
    "name": "ipython",
    "version": 2
   },
   "file_extension": ".py",
   "mimetype": "text/x-python",
   "name": "python",
   "nbconvert_exporter": "python",
   "pygments_lexer": "ipython2",
   "version": "2.7.6"
  },
  "pycharm": {
   "stem_cell": {
    "cell_type": "raw",
    "source": [],
    "metadata": {
     "collapsed": false
    }
   }
  }
 },
 "nbformat": 4,
 "nbformat_minor": 0
}