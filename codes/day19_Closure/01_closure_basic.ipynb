{
 "cells": [
  {
   "cell_type": "markdown",
   "metadata": {
    "collapsed": true,
    "pycharm": {
     "name": "#%% md\n"
    }
   },
   "source": [
    "### 在Python中,一切皆对象\n",
    "\n",
    "#### 函数式编程\n",
    "\n",
    "- 把一个函数当作是另外一个函数的返回结果\n",
    "\n",
    "- 函数可以当作参数\n",
    "\n",
    "#### 闭包\n",
    "在一个外函数中定义了一个内函数，内函数里运用了外函数的临时变量，并且外函数的返回值是内函数的引用。这样就构成了一个闭包。\n",
    "\n",
    "一般情况下，在我们认知当中，如果一个函数结束，函数的内部所有东西都会释放掉，还给内存，局部变量都会消失。\n",
    "\n",
    "但是闭包是一种特殊情况，如果外函数在结束的时候发现有自己的临时变量将来会在内部函数中用到，就把这个临时变量绑定给了内部函数，然后自己再结束。\n",
    "\n",
    "具体可以看:https://www.cnblogs.com/s-1314-521/p/9763376.html"
   ]
  },
  {
   "cell_type": "code",
   "execution_count": 4,
   "outputs": [
    {
     "name": "stdout",
     "text": [
      "20\n"
     ],
     "output_type": "stream"
    }
   ],
   "source": [
    "def outer():\n",
    "    x = 10  # 外部函数的临时变量(也称环境变量)\n",
    "    def inner(y):\n",
    "        print(x + y)  # 内部函数调用了环境变量\n",
    "    return inner  # 返回内部函数的引用\n",
    "\n",
    "# f存了外函数的返回值,也就是inner函数的引用\n",
    "f = outer()  \n",
    "\n",
    "# 这里相当于执行inner函数\n",
    "f(10)"
   ],
   "metadata": {
    "collapsed": false,
    "pycharm": {
     "name": "#%%\n",
     "is_executing": false
    }
   }
  },
  {
   "cell_type": "markdown",
   "source": [
    "闭包中内函数修改外函数局部变量：\n",
    "\n",
    "　　在闭包内函数中，我们可以随意使用外函数绑定来的临时变量，但是如果我们想修改外函数临时变量数值的时候发现出问题了！\n",
    "\n",
    "　　在基本的python语法当中，一个函数可以随意读取全局数据，但是要修改全局数据的时候有两种方法:\n",
    "    \n",
    "     1.global 声明全局变量 \n",
    "    \n",
    "     2.全局变量是可变类型数据的时候可以修改\n",
    "\n",
    "　　在闭包内函数也是类似的情况。在内函数中想修改闭包变量（外函数绑定给内函数的局部变量）的时候：\n",
    "\n",
    "- 在python3中，可以用nonlocal 关键字声明 一个变量， 表示这个变量不是局部变量空间的变量，需要向上一层变量空间找这个变量。\n",
    "\n",
    "- 在python2中，没有nonlocal这个关键字，我们可以把闭包变量改成可变类型数据进行修改，比如列表。"
   ],
   "metadata": {
    "collapsed": false,
    "pycharm": {
     "name": "#%% md\n"
    }
   }
  },
  {
   "cell_type": "code",
   "execution_count": 1,
   "outputs": [
    {
     "traceback": [
      "\u001b[1;31m---------------------------------------------------------------------------\u001b[0m",
      "\u001b[1;31mUnboundLocalError\u001b[0m                         Traceback (most recent call last)",
      "\u001b[1;32m<ipython-input-1-5c0ce65b15c2>\u001b[0m in \u001b[0;36m<module>\u001b[1;34m\u001b[0m\n\u001b[0;32m      8\u001b[0m \u001b[1;33m\u001b[0m\u001b[0m\n\u001b[0;32m      9\u001b[0m \u001b[0mf\u001b[0m \u001b[1;33m=\u001b[0m \u001b[0mouter\u001b[0m\u001b[1;33m(\u001b[0m\u001b[1;33m)\u001b[0m\u001b[1;33m\u001b[0m\u001b[1;33m\u001b[0m\u001b[0m\n\u001b[1;32m---> 10\u001b[1;33m \u001b[0mf\u001b[0m\u001b[1;33m(\u001b[0m\u001b[1;36m10\u001b[0m\u001b[1;33m)\u001b[0m  \u001b[1;31m# 报错:local variable 'x' referenced before assignment\u001b[0m\u001b[1;33m\u001b[0m\u001b[1;33m\u001b[0m\u001b[0m\n\u001b[0m\u001b[0;32m     11\u001b[0m \u001b[0mprint\u001b[0m\u001b[1;33m(\u001b[0m\u001b[0mf\u001b[0m\u001b[1;33m.\u001b[0m\u001b[0m__closure__\u001b[0m\u001b[1;33m)\u001b[0m  \u001b[1;31m# 不是闭包\u001b[0m\u001b[1;33m\u001b[0m\u001b[1;33m\u001b[0m\u001b[0m\n\u001b[0;32m     12\u001b[0m \u001b[1;33m\u001b[0m\u001b[0m\n",
      "\u001b[1;32m<ipython-input-1-5c0ce65b15c2>\u001b[0m in \u001b[0;36minner\u001b[1;34m(y)\u001b[0m\n\u001b[0;32m      3\u001b[0m     \u001b[0mx\u001b[0m \u001b[1;33m=\u001b[0m \u001b[1;36m10\u001b[0m\u001b[1;33m\u001b[0m\u001b[1;33m\u001b[0m\u001b[0m\n\u001b[0;32m      4\u001b[0m     \u001b[1;32mdef\u001b[0m \u001b[0minner\u001b[0m\u001b[1;33m(\u001b[0m\u001b[0my\u001b[0m\u001b[1;33m)\u001b[0m\u001b[1;33m:\u001b[0m\u001b[1;33m\u001b[0m\u001b[1;33m\u001b[0m\u001b[0m\n\u001b[1;32m----> 5\u001b[1;33m         \u001b[0mx\u001b[0m \u001b[1;33m+=\u001b[0m \u001b[1;36m1\u001b[0m  \u001b[1;31m# 修改x\u001b[0m\u001b[1;33m\u001b[0m\u001b[1;33m\u001b[0m\u001b[0m\n\u001b[0m\u001b[0;32m      6\u001b[0m         \u001b[0mprint\u001b[0m\u001b[1;33m(\u001b[0m\u001b[0mx\u001b[0m \u001b[1;33m+\u001b[0m \u001b[0my\u001b[0m\u001b[1;33m)\u001b[0m\u001b[1;33m\u001b[0m\u001b[1;33m\u001b[0m\u001b[0m\n\u001b[0;32m      7\u001b[0m     \u001b[1;32mreturn\u001b[0m \u001b[0minner\u001b[0m\u001b[1;33m\u001b[0m\u001b[1;33m\u001b[0m\u001b[0m\n",
      "\u001b[1;31mUnboundLocalError\u001b[0m: local variable 'x' referenced before assignment"
     ],
     "ename": "UnboundLocalError",
     "evalue": "local variable 'x' referenced before assignment",
     "output_type": "error"
    }
   ],
   "source": [
    "# 先看下在内部函数中想修改外部变量值x的错误实例\n",
    "def outer():\n",
    "    x = 10 \n",
    "    def inner(y):\n",
    "        x += 1  # 修改x\n",
    "        print(x + y)\n",
    "    return inner\n",
    "\n",
    "f = outer()  \n",
    "f(10)  # 报错:local variable 'x' referenced before assignment"
   ],
   "metadata": {
    "collapsed": false,
    "pycharm": {
     "name": "#%%\n",
     "is_executing": false
    }
   }
  },
  {
   "cell_type": "code",
   "execution_count": 2,
   "outputs": [
    {
     "name": "stdout",
     "text": [
      "内部函数修改环境变量后: 21\n",
      "(<cell at 0x000001FA585554F8: int object at 0x00007FF964777250>,)\n"
     ],
     "output_type": "stream"
    }
   ],
   "source": [
    "#  方法1 修改闭包变量的实例\n",
    "def outer():\n",
    "    x = 10\n",
    "    def inner(y):\n",
    "        # 内函数中想修改环境变量\n",
    "        nonlocal x  # nonlocal关键字声明\n",
    "        x += 1\n",
    "        print(\"内部函数修改环境变量后:\", x + y)\n",
    "    return inner\n",
    "f2 = outer()\n",
    "f2(10)  # 成功修改了外部函数的环境变量\n",
    "print(f2.__closure__)"
   ],
   "metadata": {
    "collapsed": false,
    "pycharm": {
     "name": "#%%\n",
     "is_executing": false
    }
   }
  },
  {
   "cell_type": "code",
   "execution_count": 3,
   "outputs": [
    {
     "name": "stdout",
     "text": [
      "内部函数修改环境变量后: 21\n",
      "(<cell at 0x000001FA585704C8: list object at 0x000001FA5856BF08>,)\n"
     ],
     "output_type": "stream"
    }
   ],
   "source": [
    "\n",
    "#  方法2 把闭包变量修改成可变数据类型 比如列表\n",
    "def outer():\n",
    "    x = 10\n",
    "    z = [x]\n",
    "    def inner(y):\n",
    "        # 内函数中想修改环境变量\n",
    "        z[0] += 1  # 把x\"包装\"成可变数据类型\n",
    "        print(\"内部函数修改环境变量后:\", z[0] + y)\n",
    "    return inner\n",
    "f2 = outer()\n",
    "f2(10)  # 成功修改了外部函数的环境变量\n",
    "print(f2.__closure__)"
   ],
   "metadata": {
    "collapsed": false,
    "pycharm": {
     "name": "#%%\n",
     "is_executing": false
    }
   }
  },
  {
   "cell_type": "markdown",
   "source": [
    "### 还有一点需要注意：\n",
    "使用闭包的过程中，一旦外函数被调用一次返回了内函数的引用，虽然每次调用内函数，是开启一个函数执行过后消亡，但是闭包变量实际上只有一份，每次开启内函数都在使用同一份闭包变量"
   ],
   "metadata": {
    "collapsed": false,
    "pycharm": {
     "name": "#%% md\n"
    }
   }
  },
  {
   "cell_type": "code",
   "execution_count": 6,
   "outputs": [
    {
     "name": "stdout",
     "text": [
      "11\n",
      "21\n"
     ],
     "output_type": "stream"
    }
   ],
   "source": [
    "def outer(x):\n",
    "    def inner(y):\n",
    "        nonlocal x\n",
    "        x += y\n",
    "        return x\n",
    "    return inner\n",
    "\n",
    "f3 = outer(1)\n",
    "print(f3(10))\n",
    "\n",
    "# 再次调用\n",
    "print(f3(10))  # 21\n",
    "# 由此可见，每次调用inner的时候，使用的闭包变量x实际上是同一个。\n"
   ],
   "metadata": {
    "collapsed": false,
    "pycharm": {
     "name": "#%%\n",
     "is_executing": false
    }
   }
  }
 ],
 "metadata": {
  "kernelspec": {
   "display_name": "Python 3",
   "language": "python",
   "name": "python3"
  },
  "language_info": {
   "codemirror_mode": {
    "name": "ipython",
    "version": 2
   },
   "file_extension": ".py",
   "mimetype": "text/x-python",
   "name": "python",
   "nbconvert_exporter": "python",
   "pygments_lexer": "ipython2",
   "version": "2.7.6"
  },
  "pycharm": {
   "stem_cell": {
    "cell_type": "raw",
    "source": [],
    "metadata": {
     "collapsed": false
    }
   }
  }
 },
 "nbformat": 4,
 "nbformat_minor": 0
}