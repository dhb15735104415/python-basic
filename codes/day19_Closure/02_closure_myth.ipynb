{
 "cells": [
  {
   "cell_type": "markdown",
   "metadata": {
    "collapsed": true,
    "pycharm": {
     "name": "#%% md\n"
    }
   },
   "source": [
    "### 经典误区"
   ]
  },
  {
   "cell_type": "code",
   "execution_count": null,
   "outputs": [],
   "source": [
    "# 先看一个例子\n",
    "def outer():\n",
    "    a = 1\n",
    "    def inner():\n",
    "        a = 3\n",
    "        print(a)\n",
    "    print(a)\n",
    "    inner()\n",
    "    print(a)\n",
    "    \n",
    "outer()  # 调用outer()会输出什么结果?"
   ],
   "metadata": {
    "collapsed": false,
    "pycharm": {
     "name": "#%%\n"
    }
   }
  },
  {
   "cell_type": "markdown",
   "source": [
    "结果是: 1 3 1,不是理解中的1 3 3. 原因在于这个问题考察的是Python的对于变量的查找顺序,并不是闭包\n",
    "\n",
    "先看作用域问题:\n",
    "    Python的作用域规则最出名的就是LEGB，这四个字母的含义代表着Python的对于变量的查找顺序：\n",
    "    \n",
    "    -locals -> enclosing -> globals -> builtins\n",
    "    \n",
    "- locals局部作用域:指定义在函数内部的作用域\n",
    "\n",
    "- enclosing嵌套作用域:这个是相对于局部作用域而言的，在实际开发中可能会嵌套定义函数。嵌套作用域是局部作用域的上级def函数内的变量\n",
    "\n",
    "- G(global)全局作用域:使用global关键字声明的变量,全局变量\n",
    "\n",
    "只有当变量在Module(模块)、Class(类)、def(函数)中定义的时候,才会有作用域的概念，并不是所有的语句块都会产生作用域\n",
    "\n",
    "为什么不是闭包?\n",
    "\n",
    "要弄清这个问题,要先明白什么是闭包:\n",
    "    在一个外函数中定义了一个内函数，内函数里运用了外函数的临时变量，并且外函数的返回值是内函数的引用。这样就构成了一个闭包。\n",
    "    \n",
    "我们都知道需要有内外函数,或者说嵌套函数,但是其中还有两个关键点:\n",
    "    \n",
    "    1. 内函数运用了外函数的临时变量\n",
    "    2. 外函数的返回值是内涵数的引用\n",
    "   \n",
    "在上述例子中,两个关键点一个都不满足;\n",
    "    1. Python动态语言的特性,inner()中的a只是内函数的又定义的一个变量,可理解为enclosing作用域中的一个变量\n",
    "    2. 外函数并没有返回内函数的引用\n",
    "  \n",
    "因此结果是: 1 3 1"
   ],
   "metadata": {
    "collapsed": false,
    "pycharm": {
     "name": "#%% md\n"
    }
   }
  },
  {
   "cell_type": "code",
   "execution_count": 4,
   "outputs": [
    {
     "name": "stdout",
     "text": [
      "1\n",
      "3\n",
      "1\n"
     ],
     "output_type": "stream"
    },
    {
     "traceback": [
      "\u001b[1;31m---------------------------------------------------------------------------\u001b[0m",
      "\u001b[1;31mAttributeError\u001b[0m                            Traceback (most recent call last)",
      "\u001b[1;32m<ipython-input-4-0440129128cb>\u001b[0m in \u001b[0;36m<module>\u001b[1;34m\u001b[0m\n\u001b[0;32m      1\u001b[0m \u001b[1;31m# 我们验证一下判断,打印闭包内置变量:__closure__\u001b[0m\u001b[1;33m\u001b[0m\u001b[1;33m\u001b[0m\u001b[1;33m\u001b[0m\u001b[0m\n\u001b[0;32m      2\u001b[0m \u001b[0mresult\u001b[0m \u001b[1;33m=\u001b[0m \u001b[0mouter\u001b[0m\u001b[1;33m(\u001b[0m\u001b[1;33m)\u001b[0m\u001b[1;33m\u001b[0m\u001b[1;33m\u001b[0m\u001b[0m\n\u001b[1;32m----> 3\u001b[1;33m \u001b[0mprint\u001b[0m\u001b[1;33m(\u001b[0m\u001b[0mresult\u001b[0m\u001b[1;33m.\u001b[0m\u001b[0m__closure__\u001b[0m\u001b[1;33m)\u001b[0m  \u001b[1;31m# 报错, 其实在我IDE中编写代码时,便没有智能提示,如果是闭包,基本上都会提示的\u001b[0m\u001b[1;33m\u001b[0m\u001b[1;33m\u001b[0m\u001b[0m\n\u001b[0m",
      "\u001b[1;31mAttributeError\u001b[0m: 'NoneType' object has no attribute '__closure__'"
     ],
     "ename": "AttributeError",
     "evalue": "'NoneType' object has no attribute '__closure__'",
     "output_type": "error"
    }
   ],
   "source": [
    "# 我们验证一下判断,打印闭包内置变量:__closure__\n",
    "result = outer()\n",
    "print(result.__closure__)  # 报错, 其实在我IDE中编写代码时,便没有智能提示,如果是闭包,基本上都会提示的"
   ],
   "metadata": {
    "collapsed": false,
    "pycharm": {
     "name": "#%%\n",
     "is_executing": false
    }
   }
  },
  {
   "cell_type": "code",
   "execution_count": 32,
   "outputs": [
    {
     "name": "stdout",
     "text": [
      "10\n",
      "10\n"
     ],
     "output_type": "stream"
    },
    {
     "data": {
      "text/plain": "10"
     },
     "metadata": {},
     "output_type": "execute_result",
     "execution_count": 32
    }
   ],
   "source": [
    "# 稍作修改,变成闭包\n",
    "\n",
    "def outer():\n",
    "    a = 10\n",
    "    def inner():\n",
    "        print(a)\n",
    "        return a\n",
    "    print(a)\n",
    "    return inner\n",
    "\n",
    "f1 = outer()\n",
    "\n",
    "f1()  "
   ],
   "metadata": {
    "collapsed": false,
    "pycharm": {
     "name": "#%%\n",
     "is_executing": false
    }
   }
  },
  {
   "cell_type": "code",
   "execution_count": 33,
   "outputs": [
    {
     "name": "stdout",
     "text": [
      "(<cell at 0x000001D23B46C7F8: int object at 0x00007FF964777230>,)\n"
     ],
     "output_type": "stream"
    }
   ],
   "source": [
    "'''\n",
    "    上述结果解释:\n",
    "    10  # outer()函数中print(a)输出\n",
    "    10  # inner()函数中print(a)输出\n",
    "    \n",
    "    10  # inner函数中return a,而outer函数又ruturn inner\n",
    "'''\n",
    "\n",
    "# 这里输出下__clousure__,验证是不是闭包\n",
    "print(f1.__closure__)"
   ],
   "metadata": {
    "collapsed": false,
    "pycharm": {
     "name": "#%%\n",
     "is_executing": false
    }
   }
  }
 ],
 "metadata": {
  "kernelspec": {
   "display_name": "Python 3",
   "language": "python",
   "name": "python3"
  },
  "language_info": {
   "codemirror_mode": {
    "name": "ipython",
    "version": 2
   },
   "file_extension": ".py",
   "mimetype": "text/x-python",
   "name": "python",
   "nbconvert_exporter": "python",
   "pygments_lexer": "ipython2",
   "version": "2.7.6"
  },
  "pycharm": {
   "stem_cell": {
    "cell_type": "raw",
    "source": [],
    "metadata": {
     "collapsed": false
    }
   }
  }
 },
 "nbformat": 4,
 "nbformat_minor": 0
}