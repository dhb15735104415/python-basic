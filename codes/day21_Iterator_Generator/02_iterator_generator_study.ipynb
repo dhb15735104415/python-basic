{
 "cells": [
  {
   "cell_type": "markdown",
   "metadata": {
    "collapsed": true,
    "pycharm": {
     "name": "#%% md\n"
    }
   },
   "source": [
    "参考:<https://www.cnblogs.com/leohahah/p/10189281.html>\n",
    "\n",
    "## 一.基础概念\n",
    "在进行具体的迭代类和迭代函数示例之前，首先介绍几个概念以防混淆：\n",
    "\n",
    "### 可迭代对象iterable\n",
    "可迭代的对象的意思是就是说这个实体是可迭代的，例如字符、列表、元组、字典、迭代器等等，可以用for ... in进行循环，可以使用for循环迭代的标志是内部实现了`__iter__`方法。\n",
    "\n",
    "可迭代对象仅含有`__iter__`的内部方法，你可以通过封装`next()`方法（python3中为`__next__()`）来将其做成一个迭代器，以生成器（generator，特殊的函数类型的迭代器）为例，你可以通过yield关键字来做一个迭代器，只不过名字被叫做generator，yield可以看做就是为对象添加了`__iter__`方法和指示下一次迭代的`next()`/`__next__()`方法。\n",
    "\n",
    "使用`isinstance(实体名,Iterable)`可判断是否为可迭代对象\n",
    "\n",
    "### 迭代器iterator\n",
    "\n",
    "迭代器就是实现了迭代方式的容器，iterable对象一般只能按默认的正序方式进行迭代，你可以通过为其添加`__next__()`/next()方法来定制不同的迭代方式，这样通过next方法封装起来的迭代对象生成器就被称作迭代器。与iterable相比,iterator多了一个next()方法，next()方法用于定制for循环时具体的返回值及返回顺序以及处理StopIteration异常等。\n",
    "\n",
    "iterator必定是iterable的，因此其必然含有`__iter__`方法，此方法保证了iterator是可以迭代的，个人认为可以将`__iter__`()方法看做迭代器的入口，此入口告诉python对象是可for循环的，当你还为class定义了`__next__`方法时,python的for循环会直接调用`__next__()`方法进行迭代，因此对于实现了`__next__`方法的迭代器来讲`__iter__`方法是一个不可或缺的鸡肋方法，不可或缺是因为他是可迭代的标识，鸡肋是因为他不会实质性的起作用，虽然他是迭代器的入口但却不是迭代的起始点，也因此iterator的`__iter__`方法可以随意返回self或者self.属性或者None。\n",
    "\n",
    "使用`isinstance(实体名,Iterator)`可判断是否为迭代器\n",
    "\n",
    "### 生成器generator\n",
    "\n",
    "generator对象是一种特殊的iterator函数，它会在执行过程中保存执行的上下文环境，并在下次循环中从yield语句后继续执行，生成器的标志就是yield关键字。\n",
    "\n",
    "generator不需要抛出StopIteration异常（你可以看做yield已经在内部实现了StopIteration跳出循环），函数并没有将序列项一次生成，所以generator在实现上可以有无穷个元素，而不需要无穷的存储空间，这在内存优化方面很有用处。\n",
    "\n",
    "使用isinstance(实体名,Generator)可判断是否为生成器。\n",
    "\n",
    "生成器的创建办法有两种：\n",
    "- 通过函数创建，称作generator function\n",
    "- 通过推导式创建，例如`g=(x*2 for x in range(10))`，称作generator expression\n",
    "\n",
    "\n",
    "### `__iter__()`和iter()\n",
    "\n",
    "python有一个built-in函数iter()用来从序列对象，如String, list,tuple中生成迭代器。\n",
    "\n",
    "`__iter__`()方法是python的魔法方法，如果对象是iterator，那么for循环时，python会直接调用`__next__`()方法拿到循环的下一个值，直到遇到StopIteration错误时退出循环。\n",
    "\n",
    "在python中，如果对象不含`__next__`方法，但是`__iter__`只返回self的话，尝试对对象使用for循环就会报“TypeError: iter() returned non-iterator of type [类名]”，针对这种错误要么加一个`__next__`()方法，要么`__iter__`()返回一个包含`__next__`()方法的迭代器对象。\n",
    "\n",
    "那么按理来说string、list这些iterable对象也是只含有`__iter__`不含`__next__`的，为何他们就可以for循环呢，这点在本文中的示例三中有演示，如果`__iter__`魔法方法调用了iter()方法，返回了一个迭代器对象，那么即便其不包含`__next__`也可以进行迭代"
   ]
  },
  {
   "cell_type": "markdown",
   "source": [
    "## 二.实例"
   ],
   "metadata": {
    "collapsed": false,
    "pycharm": {
     "name": "#%% md\n",
     "is_executing": false
    }
   }
  },
  {
   "cell_type": "code",
   "execution_count": 13,
   "outputs": [
    {
     "name": "stdout",
     "text": [
      "Iterable 判断: True\n",
      "Iterator 判断: False\n",
      "Generator 判断: False\n"
     ],
     "output_type": "stream"
    }
   ],
   "source": [
    "from collections import Iterable,Iterator,Generator\n",
    "\n",
    "lst = ['one','two' , 'three', 'four']\n",
    "print('Iterable 判断:', isinstance(lst, Iterable))\n",
    "print('Iterator 判断:', isinstance(lst, Iterator))\n",
    "print('Generator 判断:', isinstance(lst, Generator))"
   ],
   "metadata": {
    "collapsed": false,
    "pycharm": {
     "name": "#%%\n",
     "is_executing": false
    }
   }
  },
  {
   "cell_type": "markdown",
   "source": [
    "可以看到这是一个可迭代对象但并不是迭代器，我们把它搞成一个迭代器试试看：\n",
    "\n",
    "### 注意:generator对象是一种特殊的iterator函数"
   ],
   "metadata": {
    "collapsed": false,
    "pycharm": {
     "name": "#%% md\n"
    }
   }
  },
  {
   "cell_type": "code",
   "execution_count": 35,
   "outputs": [
    {
     "name": "stdout",
     "text": [
      "Number is: one\n",
      "Number is: two\n",
      "Number is: three\n",
      "Number is: four\n",
      "lst改造后,Iterable 判断: True\n",
      "lst改造后,Iterator 判断: True\n",
      "lst改造后,Generator 判断: True\n"
     ],
     "output_type": "stream"
    }
   ],
   "source": [
    "# 方法一,使用yield关键字：\n",
    "\n",
    "def lst_to_generator(lst):\n",
    "    for num in lst:\n",
    "        yield num\n",
    "\n",
    "lst_changed = lst_to_generator(lst) \n",
    "\n",
    "for num in lst_changed:\n",
    "    print('Number is:', num)\n",
    "\n",
    "print('lst改造后,Iterable 判断:', isinstance(lst_changed, Iterable))\n",
    "print('lst改造后,Iterator 判断:', isinstance(lst_changed, Iterator))\n",
    "print('lst改造后,Generator 判断:', isinstance(lst_changed, Generator))\n",
    "\n",
    "# 改造成了生成器"
   ],
   "metadata": {
    "collapsed": false,
    "pycharm": {
     "name": "#%%\n",
     "is_executing": false
    }
   }
  },
  {
   "cell_type": "code",
   "execution_count": 36,
   "outputs": [
    {
     "name": "stdout",
     "text": [
      "Number is: one\n",
      "Number is: two\n",
      "Number is: three\n",
      "Number is: four\n",
      "lst改造后,Iterable 判断: True\n",
      "lst改造后,Iterator 判断: True\n",
      "lst改造后,Generator 判断: False\n"
     ],
     "output_type": "stream"
    }
   ],
   "source": [
    "# 方法二,增加__iter__(),__next__():\n",
    "\n",
    "class lst_to_iterator(object):\n",
    "    def __init__(self, lst):\n",
    "        self.lst = lst\n",
    "        self.len = len(self.lst)\n",
    "        self.cur_index = -1\n",
    "        \n",
    "    def __iter__(self):\n",
    "        return self\n",
    "    \n",
    "    def __next__(self):\n",
    "        self.cur_index += 1\n",
    "        if self.cur_index < self.len:\n",
    "            return self.lst[self.cur_index]\n",
    "        else:\n",
    "            raise StopIteration\n",
    "\n",
    "lst_changed = lst_to_iterator(lst) \n",
    "\n",
    "for num in lst_to_iterator(lst):\n",
    "    print('Number is:', num)\n",
    "\n",
    "print('lst改造后,Iterable 判断:', isinstance(lst_changed, Iterable))\n",
    "print('lst改造后,Iterator 判断:', isinstance(lst_changed, Iterator))\n",
    "print('lst改造后,Generator 判断:', isinstance(lst_changed, Generator))  # 不是生成器"
   ],
   "metadata": {
    "collapsed": false,
    "pycharm": {
     "name": "#%%\n",
     "is_executing": false
    }
   }
  },
  {
   "cell_type": "markdown",
   "source": [
    "### 问题一：既然可迭代对象也可以使用for循环遍历，为何还要使用迭代器呢？\n",
    "\n",
    "一般情况下不需要将可迭代对象封装为迭代器。但是想象一种需要重复迭代的场景，在一个class中我们需要对输入数组进行正序、反序、正序step=1、正序step=2等等等等的多种重复遍历，那么我们完全可以针对每一种遍历方式写一个迭代容器，这样就不用每次需要遍历时都费劲心思的写一堆对应的for循环代码，只要调用相应名称的迭代器就能做到，针对每一种迭代器我们还可以加上类型判断及相应的处理，这使得我们可以不必关注底层的迭代代码实现。\n",
    "\n",
    "从这种角度来看，你可以将迭代器看做可迭代对象的函数化，有一个非常流行的迭代器库itertools，其实就是如上所说的，他为很多可迭代类型提前定义好了一些列的常见迭代方式，并封装为了迭代器，这样大家就可以很方便的直接通过调用此模块玩转迭代。\n",
    "\n",
    "此外iterator还可以节省内存"
   ],
   "metadata": {
    "collapsed": false,
    "pycharm": {
     "name": "#%% md\n"
    }
   }
  },
  {
   "cell_type": "code",
   "execution_count": 46,
   "outputs": [
    {
     "name": "stdout",
     "text": [
      "lst_sort [1, 2, 3, 4, 6, 5, 8, 9, 7]\n",
      "lst_reverse [7, 9, 8, 5, 6, 4, 3, 2, 1]\n"
     ],
     "output_type": "stream"
    }
   ],
   "source": [
    "# 练习1:\n",
    "lst2 = [1, 2, 3, 4, 6, 5, 8, 9, 7]\n",
    "\n",
    "class iter_sort(object):\n",
    "    \"\"\"\n",
    "        index正序迭代器\n",
    "    @object: 可迭代对象\n",
    "    @return: 返回正序后的结果,元素与原lst结果一致\n",
    "    \"\"\"\n",
    "    def __init__(self, lst):\n",
    "        self.lst = lst\n",
    "        self.len = len(lst)\n",
    "        self.cur_index = -1\n",
    "        \n",
    "    def __iter__(self):\n",
    "        return self\n",
    "    \n",
    "    def __next__(self):\n",
    "        self.cur_index += 1\n",
    "        if self.cur_index < self.len:\n",
    "            return self.lst[self.cur_index]\n",
    "        else:\n",
    "            raise StopIteration\n",
    "\n",
    "\n",
    "class iter_reverse(object):\n",
    "    \"\"\"\n",
    "        index倒序迭代器\n",
    "    @object: 可迭代对象\n",
    "    @return: 返回倒序后的结果,元素与原lst顺序相反\n",
    "    \"\"\"\n",
    "    def __init__(self, lst):\n",
    "        self.lst = lst\n",
    "        self.len = len(self.lst)\n",
    "        self.cur_index = self.len\n",
    "                \n",
    "    def __iter__(self):\n",
    "        return self\n",
    "    \n",
    "    def __next__(self):\n",
    "        self.cur_index -= 1\n",
    "        if self.cur_index >= 0:\n",
    "            return self.lst[self.cur_index]\n",
    "        else:\n",
    "            raise StopIteration\n",
    "\n",
    "lst_sort = iter_sort(lst2)\n",
    "lst_reverse = iter_reverse(lst2)\n",
    "\n",
    "print(\"lst_sort\", list(lst_sort))\n",
    "print(\"lst_reverse\", list(lst_reverse))"
   ],
   "metadata": {
    "collapsed": false,
    "pycharm": {
     "name": "#%%\n",
     "is_executing": false
    }
   }
  },
  {
   "cell_type": "markdown",
   "source": [
    "可以看到我们只要调用相应名字的迭代器对象就可以直接进行for循环了，这种写法相比起每次都需要在for循环中重复一遍算法逻辑要简单，除此之外你还可以为不同输入类型定制相同的迭代方式，这样就无需关注内部实现了。\n",
    "\n",
    "这就是迭代器的作用，为不同类型的输入封装相同的迭代功能，从而实现代码简化。\n",
    "\n",
    "Python中有一个非常有用的itertools module，提供了大量不同的迭代器，只要直接调用你就可以实现对序列的各种操作，你可以通过这个库加深对于迭代器的理解"
   ],
   "metadata": {
    "collapsed": false,
    "pycharm": {
     "name": "#%% md\n"
    }
   }
  },
  {
   "cell_type": "markdown",
   "source": [
    "### 问题二：生成器（generator）如何节约内存的？\n",
    "\n",
    "generator的标志性关键字yield其实可以看作return，以本文上述的lst_to_generator方法为例，lst_to_generator(lst)就是一个生成器。\n",
    "\n",
    "生成器最大的好处在于：lst_to_generator(lst)并不会真正执行函数的代码，只有在被循环时才会去获取值，且每次循环都return一个值（即yield一个值），在处理完毕后下次循环时依然使用相同的内存（假设处理单位大小一样）来获取值并处理，这样在一次for循环中函数好像中断（yield）了无数次，每次都用相同大小的内存来存储被迭代的值。\n",
    "\n",
    "yield与return的最大区别就是yield并不意味着函数的终止，而是意味着函数的一次中断，在未被迭代完毕之前yield意味着先返回一次迭代值并继续下一次函数的执行（起始位置是上一次yeild语句结束），而return则基本意味着一个函数的彻底终止并返回一个全量的返回值。\n",
    "\n",
    "因此generator是为了节省内存的，而且将函数写为一个生成器可以使函数变的可迭代，如果我们想遍历函数的返回值，我们不用再单独定义一个可迭代变量存储函数的返回值们，而是直接迭代生成器函数即可（除非函数本身返回一个全量的可迭代对象）。\n",
    "\n",
    "同理iterator的`__iter__`()方法只是一个迭代的入口，每次调用`__next__()`时返回一个迭代值，同样以O(1)的空间复杂度完成了迭代。"
   ],
   "metadata": {
    "collapsed": false,
    "pycharm": {
     "name": "#%% md\n"
    }
   }
  },
  {
   "cell_type": "code",
   "execution_count": 77,
   "outputs": [
    {
     "name": "stdout",
     "text": [
      "1.003375768661499\n",
      "0.9746119976043701\n"
     ],
     "output_type": "stream"
    },
    {
     "data": {
      "text/plain": "[0, 2, 4, 6, 8, 10, 12, 14, 16, 18]"
     },
     "metadata": {},
     "output_type": "execute_result",
     "execution_count": 77
    }
   ],
   "source": [
    "import time\n",
    "# 练习2:\n",
    "\n",
    "def test():\n",
    "    begin_time = time.time()\n",
    "    result = []\n",
    "    for i in range(10000000):  \n",
    "        if i % 2 ==0:\n",
    "            result.append(i)  # for循环结束后,会生成一个含有10000000个数的list了，占内存\n",
    "    end_time = time.time()\n",
    "    print(end_time - begin_time)\n",
    "    return result\n",
    "\n",
    "\n",
    "# 用yield实现\n",
    "def test2():\n",
    "    begin_time = time.time()\n",
    "    for i in range(10000000):\n",
    "        if i % 2 == 0:\n",
    "            yield i   # 一次只生成1个数的内存\n",
    "    end_time = time.time()\n",
    "    print(end_time - begin_time)\n",
    "\n",
    "test()\n",
    "list(test2())[:10]\n",
    "\n",
    "# yield不仅节省内存,同时也比较省时"
   ],
   "metadata": {
    "collapsed": false,
    "pycharm": {
     "name": "#%%\n",
     "is_executing": false
    }
   }
  },
  {
   "cell_type": "markdown",
   "source": [
    "可迭代对象(但并不是迭代器),其标志不仅仅是含有`__iter__`方法，它的`__iter__`方法还返回了一个迭代器对象（例如练习3中的iter(self.list)），\n",
    "\n",
    "所以虽然其可for循环,但本身却不含`__next__()`,因此并不是迭代器"
   ],
   "metadata": {
    "collapsed": false,
    "pycharm": {
     "name": "#%% md\n"
    }
   }
  },
  {
   "cell_type": "code",
   "execution_count": 60,
   "outputs": [
    {
     "name": "stdout",
     "text": [
      "iter_fake可迭代: [1, 2, 3, 4, 6, 5, 8, 9, 7]\n",
      "iter_fake,Iterable 判断: True\n",
      "iter_fake,Iterator 判断: False\n"
     ],
     "output_type": "stream"
    }
   ],
   "source": [
    "# 练习3:\n",
    "\n",
    "class iter_fake(object):\n",
    "    \"\"\"\n",
    "        没有__next__方法,但确实能够迭代数据\n",
    "    \"\"\"\n",
    "    def __init__(self, lst):\n",
    "        self.lst = lst\n",
    "        \n",
    "    def __iter__(self):\n",
    "        return iter(self.lst)\n",
    "\n",
    "result = iter_fake(lst2)\n",
    "\n",
    "print('iter_fake可迭代:', list(result))\n",
    "\n",
    "print('iter_fake,Iterable 判断:', isinstance(result, Iterable))\n",
    "print('iter_fake,Iterator 判断:', isinstance(result, Iterator))  # isinstance并不认为iter_fake类是一个迭代器.但其仍是可迭代的\n"
   ],
   "metadata": {
    "collapsed": false,
    "pycharm": {
     "name": "#%%\n",
     "is_executing": false
    }
   }
  }
 ],
 "metadata": {
  "kernelspec": {
   "display_name": "Python 3",
   "language": "python",
   "name": "python3"
  },
  "language_info": {
   "codemirror_mode": {
    "name": "ipython",
    "version": 2
   },
   "file_extension": ".py",
   "mimetype": "text/x-python",
   "name": "python",
   "nbconvert_exporter": "python",
   "pygments_lexer": "ipython2",
   "version": "2.7.6"
  },
  "pycharm": {
   "stem_cell": {
    "cell_type": "raw",
    "source": [],
    "metadata": {
     "collapsed": false
    }
   }
  }
 },
 "nbformat": 4,
 "nbformat_minor": 0
}