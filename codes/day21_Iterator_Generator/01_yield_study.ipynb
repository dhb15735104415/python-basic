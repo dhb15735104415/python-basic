{
 "cells": [
  {
   "cell_type": "markdown",
   "metadata": {
    "collapsed": true,
    "pycharm": {
     "name": "#%% md\n"
    }
   },
   "source": [
    "## yield关键字\n",
    "\n",
    "yield,有放弃,屈服之意\n",
    "\n",
    "Python中,yield的作用时,直接返回yield后面代码,并且暂停代码,不再执行. 相当于将后面的代码挂起\n",
    "\n",
    "next()或`__next()__` for循环可唤起代码继续执行\n",
    "\n",
    "yield的应用:<https://blog.csdn.net/xo3ylAF9kGs/article/details/102927206>"
   ]
  },
  {
   "cell_type": "code",
   "execution_count": 1,
   "outputs": [
    {
     "name": "stdout",
     "text": [
      "i = start: 1\n"
     ],
     "output_type": "stream"
    },
    {
     "data": {
      "text/plain": "1"
     },
     "metadata": {},
     "output_type": "execute_result",
     "execution_count": 1
    }
   ],
   "source": [
    "# yield 学习\n",
    "def gen(start, end):\n",
    "    i = start\n",
    "    print('i = start:', i)\n",
    "    while i <= end:\n",
    "        v = yield i  # 直接返回i,不会执行赋值操作\n",
    "        print('v = yield i:', v)\n",
    "        if v:\n",
    "            i = v\n",
    "            print(' i = v:', i)\n",
    "        else:\n",
    "            i += 1\n",
    "            print('i ++ :',  i)\n",
    "g = gen(1, 100)\n",
    "next(g)\n",
    "# next(g)这行代码之后,具体执行过程:\n",
    "# 1.进入gen(start, end)函数\n",
    "# 2.执行print('i = start:', i)\n",
    "# 3.while循环开始,看到yield,直接return i,此时i=1\n",
    "# 4.代码暂停(挂起)"
   ],
   "metadata": {
    "collapsed": false,
    "pycharm": {
     "name": "#%%\n",
     "is_executing": false
    }
   }
  },
  {
   "cell_type": "code",
   "execution_count": 2,
   "outputs": [
    {
     "name": "stdout",
     "text": [
      "v = yield i: None\n",
      "i ++ : 2\n"
     ],
     "output_type": "stream"
    },
    {
     "data": {
      "text/plain": "2"
     },
     "metadata": {},
     "output_type": "execute_result",
     "execution_count": 2
    }
   ],
   "source": [
    "next(g)\n",
    "\n",
    "# 第二个next(g)代码之后,具体执行过程:\n",
    "# 1.接着上次挂起的代码执行,即 v = yield i. 但是上次next()已经直接返回ile,所以没有值可以赋值给v,Python会默认赋值给None\n",
    "# 2.执行print('v = yield i:', v),这是就会输出v的值为None\n",
    "# 3.if判断,None为False\n",
    "# 4.走else分支\n",
    "# 5.执行i+=1,此时i变为2\n",
    "# 6.print('i ++ :',  i),输出i的值"
   ],
   "metadata": {
    "collapsed": false,
    "pycharm": {
     "name": "#%%\n",
     "is_executing": false
    }
   }
  },
  {
   "cell_type": "code",
   "execution_count": 3,
   "outputs": [
    {
     "name": "stdout",
     "text": [
      "v = yield i: 95\n",
      " i = v: 95\n",
      "95\n"
     ],
     "output_type": "stream"
    }
   ],
   "source": [
    "print(g.send(95))"
   ],
   "metadata": {
    "collapsed": false,
    "pycharm": {
     "name": "#%%\n",
     "is_executing": false
    }
   }
  },
  {
   "cell_type": "markdown",
   "source": [
    "这次输出中,发现v竟然有值了!具体原因就是要理解send()的作用:\n",
    "\n",
    "send 顾名思义:送,发送....具体执行过程如下:\n",
    "\n",
    "1.g.send(95)执行后,会将参数95送给yield挂起的地方,就相当于None变为95了,因为上一次next()执行后,返回i值后,就挂起代码了,因此无返回值,Python默认为None\n",
    "\n",
    "2.然后接着继续执行代码, `v = `  这段赋值操作还是要继续执行,接收了发送过来的95,那么此时 v为95,因此输出结果 `v = yield i: 95`\n",
    "\n",
    "3.if判断,95为True\n",
    "\n",
    "4.i=v,此时i为95\n",
    "\n",
    "5.执行print,输出i的值\n",
    "\n",
    "6.然后再返回while循环, 95 <= 100,进入循环体\n",
    "\n",
    "7.此时遇到yield i, 直接返回i的值95,然后挂起代码\n",
    "\n",
    "8.执行print(g.send(95)),输出95\n"
   ],
   "metadata": {
    "collapsed": false,
    "pycharm": {
     "name": "#%% md\n"
    }
   }
  }
 ],
 "metadata": {
  "kernelspec": {
   "display_name": "Python 3",
   "language": "python",
   "name": "python3"
  },
  "language_info": {
   "codemirror_mode": {
    "name": "ipython",
    "version": 2
   },
   "file_extension": ".py",
   "mimetype": "text/x-python",
   "name": "python",
   "nbconvert_exporter": "python",
   "pygments_lexer": "ipython2",
   "version": "2.7.6"
  },
  "pycharm": {
   "stem_cell": {
    "cell_type": "raw",
    "source": [],
    "metadata": {
     "collapsed": false
    }
   }
  }
 },
 "nbformat": 4,
 "nbformat_minor": 0
}