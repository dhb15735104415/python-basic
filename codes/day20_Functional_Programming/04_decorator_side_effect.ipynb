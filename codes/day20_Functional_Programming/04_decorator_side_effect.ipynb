{
 "cells": [
  {
   "cell_type": "markdown",
   "metadata": {
    "collapsed": true,
    "pycharm": {
     "name": "#%% md\n"
    }
   },
   "source": [
    "## Python装饰器产生的副作用及如何消除\n",
    "\n",
    "装饰器产生的副作用:\n",
    "\n",
    "在Python世界里，一切皆对象，所以函数也是对象，函数有一些内置属性，例如：`__name__`、 `__module__` 、`__doc__` 和`__dict__`等。\n",
    "\n",
    "如果使用装饰器修饰函数，那么函数的内置属性值会发生变化，这将不利于调试，定位bug位置，这就是装饰器产生的副作用！\n",
    "\n",
    "结合实例,了解装饰器的副作用:"
   ]
  },
  {
   "cell_type": "code",
   "execution_count": 11,
   "outputs": [
    {
     "name": "stdout",
     "text": [
      "test1.__name__: test1\n",
      "test1.__doc__: \n",
      "        This is a test1 function\n",
      "    \n",
      "test2.__name__: wrapper\n",
      "test2.__doc__:  This is a wrapper function\n"
     ],
     "output_type": "stream"
    }
   ],
   "source": [
    "def decorator(func):\n",
    "    def wrapper(*args, **kwargs):\n",
    "        \"\"\" This is a wrapper function\"\"\"\n",
    "        return func(*args, **kwargs)\n",
    "    return wrapper\n",
    "\n",
    "def test1():\n",
    "    \"\"\"\n",
    "        This is a test1 function\n",
    "    \"\"\"\n",
    "    result = 'test1'\n",
    "    print(f'{result} function')\n",
    "    \n",
    "@decorator  \n",
    "def test2():\n",
    "    \"\"\"\n",
    "        This is a test2 function\n",
    "    \"\"\"\n",
    "    result = 'test2'\n",
    "    print(f'{result} function')\n",
    "    \n",
    "print('test1.__name__:',test1.__name__)\n",
    "print('test1.__doc__:',test1.__doc__)\n",
    "\n",
    "print('test2.__name__:',test2.__name__)\n",
    "print('test2.__doc__:',test2.__doc__)\n",
    "    "
   ],
   "metadata": {
    "collapsed": false,
    "pycharm": {
     "name": "#%%\n",
     "is_executing": false
    }
   }
  },
  {
   "cell_type": "markdown",
   "source": [
    "观察结果,发现被装饰器修饰的函数test2,属性内容发生了改变,而没有被装饰器修饰的函数test1显示正常\n",
    "\n",
    "被装饰器修饰的多个函数，其函数属性值都会变成装饰器函数内容，多个不同的函数，其属性值是相同的，这非常不利于调试，定位程序bug。\n",
    "\n",
    "以上就是装饰器产生的副作用！\n",
    "\n",
    "### 如何消除装饰器的副作用\n",
    "使用functools模块提供 wraps和update_wrApper 方法能够修正函数内置属性值，消除装饰器副作用\n",
    "\n",
    "**update_wrapper 使用示例:**"
   ],
   "metadata": {
    "collapsed": false,
    "pycharm": {
     "name": "#%% md\n"
    }
   }
  },
  {
   "cell_type": "code",
   "execution_count": 12,
   "outputs": [
    {
     "name": "stdout",
     "text": [
      "test1.__name__: test1\n",
      "test1.__doc__: \n",
      "        This is a test1 function\n",
      "    \n",
      "test2.__name__: test2\n",
      "test2.__doc__: \n",
      "        This is a test2 function\n",
      "    \n"
     ],
     "output_type": "stream"
    }
   ],
   "source": [
    "from functools import update_wrapper\n",
    "\n",
    "def decorator(func):\n",
    "    def wrapper(*args, **kwargs):\n",
    "        \"\"\"This a wrapper function\"\"\"\n",
    "        return func(*args, **kwargs)\n",
    "    # 调用functools模块的update_wrapper方法\n",
    "    return update_wrapper(wrapper, func)\n",
    "\n",
    "\n",
    "def test1():\n",
    "    \"\"\"\n",
    "        This is a test1 function\n",
    "    \"\"\"\n",
    "    result = 'test1'\n",
    "    print(f'{result} function')\n",
    "    \n",
    "@decorator  \n",
    "def test2():\n",
    "    \"\"\"\n",
    "        This is a test2 function\n",
    "    \"\"\"\n",
    "    result = 'test2'\n",
    "    print(f'{result} function')\n",
    "    \n",
    "print('test1.__name__:',test1.__name__)\n",
    "print('test1.__doc__:',test1.__doc__)\n",
    "\n",
    "print('test2.__name__:',test2.__name__)\n",
    "print('test2.__doc__:',test2.__doc__)"
   ],
   "metadata": {
    "collapsed": false,
    "pycharm": {
     "name": "#%%\n",
     "is_executing": false
    }
   }
  },
  {
   "cell_type": "markdown",
   "source": [
    "观察结果,test1和test2的属性输出都正常了\n",
    "\n",
    "**wraps使用示例:**\n"
   ],
   "metadata": {
    "collapsed": false,
    "pycharm": {
     "name": "#%% md\n"
    }
   }
  },
  {
   "cell_type": "code",
   "execution_count": 13,
   "outputs": [
    {
     "name": "stdout",
     "text": [
      "test1.__name__: test1\n",
      "test1.__doc__: \n",
      "        This is a test1 function\n",
      "    \n",
      "test2.__name__: test2\n",
      "test2.__doc__: \n",
      "        This is a test2 function\n",
      "    \n"
     ],
     "output_type": "stream"
    }
   ],
   "source": [
    "from functools import wraps\n",
    "\n",
    "def decorator(func):\n",
    "    @wraps(func)\n",
    "    def wrapper(*args, **kwargs):\n",
    "        \"\"\"This is a wrapper function\"\"\"\n",
    "        return func(*args, **kwargs)\n",
    "    return wrapper\n",
    "\n",
    "def test1():\n",
    "    \"\"\"\n",
    "        This is a test1 function\n",
    "    \"\"\"\n",
    "    result = 'test1'\n",
    "    print(f'{result} function')\n",
    "    \n",
    "@decorator  \n",
    "def test2():\n",
    "    \"\"\"\n",
    "        This is a test2 function\n",
    "    \"\"\"\n",
    "    result = 'test2'\n",
    "    print(f'{result} function')\n",
    "    \n",
    "print('test1.__name__:',test1.__name__)\n",
    "print('test1.__doc__:',test1.__doc__)\n",
    "\n",
    "print('test2.__name__:',test2.__name__)\n",
    "print('test2.__doc__:',test2.__doc__)"
   ],
   "metadata": {
    "collapsed": false,
    "pycharm": {
     "name": "#%%\n",
     "is_executing": false
    }
   }
  },
  {
   "cell_type": "markdown",
   "source": [
    "update_wrapper和wraps方法的功能是一样的\n",
    "\n",
    "只不过wraps是使用partial()对update_wrapper进一步封装得到的，所以推荐使用wraps方法！\n",
    "\n",
    "**总结:**\n",
    "\n",
    "使用装饰器给我们带来高效的编程，但是装饰器会产生一个容易让人忽视的副作用：不利于调试，定位程序bug。\n",
    "\n",
    "使用functools模块提供 wraps和update_wrapper 方法，消除Python装饰器副作用；而且使用update_wrapper和wraps是一个好的编程习惯！"
   ],
   "metadata": {
    "collapsed": false,
    "pycharm": {
     "name": "#%% md\n"
    }
   }
  }
 ],
 "metadata": {
  "kernelspec": {
   "display_name": "Python 3",
   "language": "python",
   "name": "python3"
  },
  "language_info": {
   "codemirror_mode": {
    "name": "ipython",
    "version": 2
   },
   "file_extension": ".py",
   "mimetype": "text/x-python",
   "name": "python",
   "nbconvert_exporter": "python",
   "pygments_lexer": "ipython2",
   "version": "2.7.6"
  },
  "pycharm": {
   "stem_cell": {
    "cell_type": "raw",
    "source": [],
    "metadata": {
     "collapsed": false
    }
   }
  }
 },
 "nbformat": 4,
 "nbformat_minor": 0
}