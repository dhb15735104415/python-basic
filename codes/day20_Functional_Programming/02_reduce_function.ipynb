{
 "cells": [
  {
   "cell_type": "markdown",
   "metadata": {
    "collapsed": true,
    "pycharm": {
     "name": "#%% md\n"
    }
   },
   "source": [
    "### reduce学习\n",
    "```\n",
    "def reduce(function, sequence, initial=None):\n",
    "   \n",
    "    reduce(function, sequence[, initial]) -> value\n",
    "```\n",
    "\n",
    "从左到右，将两个自变量的函数累加到序列的各个项上，以将序列缩减为单个值。\n",
    "\n",
    "例如，reduce（lambda x，y：x + y，[1,2,3,4,5]）计算（（（（（1 + 2）+3）+4）+5）。如果存在initial，则将其放在计算中序列的项目之前，并在序列为空时用作默认值\n",
    "- 两个自变量的函数\n",
    "- 累加到序列的各个项上\n",
    "- 直到序列缩减到单个值\n",
    "\n",
    "连续计算,连续调用函数"
   ]
  },
  {
   "cell_type": "code",
   "execution_count": 9,
   "outputs": [
    {
     "name": "stdout",
     "text": [
      "120\n"
     ],
     "output_type": "stream"
    }
   ],
   "source": [
    "from functools import reduce\n",
    "\n",
    "result = reduce(lambda x, y : x*y, [1,2,3,4,5])\n",
    "print(result)"
   ],
   "metadata": {
    "collapsed": false,
    "pycharm": {
     "name": "#%%\n",
     "is_executing": false
    }
   }
  },
  {
   "cell_type": "code",
   "execution_count": 11,
   "outputs": [
    {
     "name": "stdout",
     "text": [
      "(2, 2)\n"
     ],
     "output_type": "stream"
    }
   ],
   "source": [
    "# 二维移动问题:初始为(0,0),经过一系列移动后,求最终点的坐标\n",
    "list_move = [(1, 2), (-3, 5), (3, -9), (1, 4)]\n",
    "des_pos = reduce(lambda x,y:(x[0]+y[0],x[1]+y[1]),list_move)\n",
    "print(des_pos)"
   ],
   "metadata": {
    "collapsed": false,
    "pycharm": {
     "name": "#%%\n",
     "is_executing": false
    }
   }
  },
  {
   "cell_type": "code",
   "execution_count": 14,
   "outputs": [
    {
     "name": "stdout",
     "text": [
      "115\n",
      "str123\n"
     ],
     "output_type": "stream"
    }
   ],
   "source": [
    "# 有初始值\n",
    "# 运算操作:(((((100+1)+2)+3)+4)+5)\n",
    "result = reduce(lambda x, y : x+y, [1,2,3,4,5],100)\n",
    "print(result)\n",
    "\n",
    "# 更直观的看一下\n",
    "str_result = reduce(lambda x, y:x+y, ['1','2','3'], 'str')\n",
    "print(str_result)"
   ],
   "metadata": {
    "collapsed": false,
    "pycharm": {
     "name": "#%%\n",
     "is_executing": false
    }
   }
  }
 ],
 "metadata": {
  "kernelspec": {
   "display_name": "Python 3",
   "language": "python",
   "name": "python3"
  },
  "language_info": {
   "codemirror_mode": {
    "name": "ipython",
    "version": 2
   },
   "file_extension": ".py",
   "mimetype": "text/x-python",
   "name": "python",
   "nbconvert_exporter": "python",
   "pygments_lexer": "ipython2",
   "version": "2.7.6"
  },
  "pycharm": {
   "stem_cell": {
    "cell_type": "raw",
    "source": [],
    "metadata": {
     "collapsed": false
    }
   }
  }
 },
 "nbformat": 4,
 "nbformat_minor": 0
}