{
 "cells": [
  {
   "cell_type": "markdown",
   "metadata": {
    "collapsed": true,
    "pycharm": {
     "name": "#%% md\n"
    }
   },
   "source": [
    "## 装饰器\n",
    "\n",
    "### 先了解开闭原则：对修改是封闭，对扩展是开放\n",
    "\n",
    "即：当需求产生变更时，应该尽量不改变类/函数/对象下的实现应该通过扩展一个新的函数或者类来符合新的需求\n",
    "\n",
    "\n",
    "因此，装饰器要解决的问题就是：\n",
    "\n",
    "把新添加的功能和之前的函数绑定在一起，体现对原来函数功能的增加，但又不更改函数内部的实现\n",
    "\n",
    "通过@符号类使用装饰器,值得注意的是,封装的装饰器本质上是闭包的使用\n",
    "\n",
    "### 优势:\n",
    "- 不更改函数内部的实现,但还能增加原函数的功能\n",
    "- 提高代码复用性\n",
    "- 提高可扩展性\n",
    "- 提高稳定性"
   ]
  },
  {
   "cell_type": "code",
   "execution_count": 5,
   "outputs": [
    {
     "name": "stdout",
     "text": [
      "1583834788.3541145\n",
      "This a test function\n"
     ],
     "output_type": "stream"
    }
   ],
   "source": [
    "import time\n",
    "\n",
    "# 无参\n",
    "def print_current_time(func):\n",
    "    def print_time():\n",
    "        print(time.time())\n",
    "        func()\n",
    "    return print_time\n",
    "\n",
    "\n",
    "@print_current_time\n",
    "def test():\n",
    "    print(\"This a test function\")\n",
    "    \n",
    "test()"
   ],
   "metadata": {
    "collapsed": false,
    "pycharm": {
     "name": "#%%\n",
     "is_executing": false
    }
   }
  },
  {
   "cell_type": "code",
   "execution_count": 11,
   "outputs": [
    {
     "name": "stdout",
     "text": [
      "1583835538.1935005\n",
      "This function has one parameter: one\n",
      "1583835538.1944628\n",
      "This function has three parameter: one two three\n"
     ],
     "output_type": "stream"
    }
   ],
   "source": [
    "# 有参,只包含位置参数\n",
    "def print_current_time(func):\n",
    "    def print_time(*args):\n",
    "        print(time.time())\n",
    "        func(*args)\n",
    "    return print_time\n",
    "\n",
    "@print_current_time\n",
    "def test1(a):\n",
    "    print('This function has one parameter:', a)\n",
    "\n",
    "@print_current_time\n",
    "def test2(a, b, c):\n",
    "    print('This function has three parameter:', a,b,c)\n",
    "\n",
    "test1(\"one\")\n",
    "test2(\"one\", \"two\", \"three\")"
   ],
   "metadata": {
    "collapsed": false,
    "pycharm": {
     "name": "#%%\n",
     "is_executing": false
    }
   }
  },
  {
   "cell_type": "code",
   "execution_count": 14,
   "outputs": [
    {
     "name": "stdout",
     "text": [
      "1583836121.5553238\n",
      "This function has one parameter: one\n",
      "1583836121.5553238\n",
      "This function has three parameter: one two three\n",
      "1583836121.5553238\n",
      "This function has three parameter: one two three\n",
      "{'d': 1, 'e': 'HelloWorld'}\n"
     ],
     "output_type": "stream"
    }
   ],
   "source": [
    "\n",
    "\n",
    "# 有参,位置参数 + 关键字参数\n",
    "def print_current_time(func):\n",
    "    def print_time(*args, **kw):\n",
    "        print(time.time())\n",
    "        func(*args, **kw)\n",
    "    return print_time\n",
    "\n",
    "@print_current_time\n",
    "def test1(a):\n",
    "    print('This function has one parameter:', a)\n",
    "\n",
    "@print_current_time\n",
    "def test2(a, b, c):\n",
    "    print('This function has three parameter:', a,b,c)\n",
    "    \n",
    "@print_current_time\n",
    "def test3(a, b, c, **kw):\n",
    "    print('This function has three parameter:', a,b,c)\n",
    "    print(kw)\n",
    "    \n",
    "    \n",
    "test1(\"one\")\n",
    "test2(\"one\", \"two\", \"three\")\n",
    "test3(\"one\", \"two\", \"three\", d=1, e='HelloWorld') \n",
    "# 关键结果,关键字参数以字典的形式打印出来了"
   ],
   "metadata": {
    "collapsed": false,
    "pycharm": {
     "name": "#%%\n",
     "is_executing": false
    }
   }
  }
 ],
 "metadata": {
  "kernelspec": {
   "display_name": "Python 3",
   "language": "python",
   "name": "python3"
  },
  "language_info": {
   "codemirror_mode": {
    "name": "ipython",
    "version": 2
   },
   "file_extension": ".py",
   "mimetype": "text/x-python",
   "name": "python",
   "nbconvert_exporter": "python",
   "pygments_lexer": "ipython2",
   "version": "2.7.6"
  },
  "pycharm": {
   "stem_cell": {
    "cell_type": "raw",
    "source": [],
    "metadata": {
     "collapsed": false
    }
   }
  }
 },
 "nbformat": 4,
 "nbformat_minor": 0
}