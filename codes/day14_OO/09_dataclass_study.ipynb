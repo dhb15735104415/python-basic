{
 "cells": [
  {
   "cell_type": "markdown",
   "metadata": {
    "collapsed": true,
    "pycharm": {
     "name": "#%% md\n"
    }
   },
   "source": [
    "## dataclasses\n",
    "\n",
    "更简洁的自带写类神器：dataclasses，需要注意，版本要大于等于Python 3.7\n",
    "```\n",
    "def dataclass(_cls=None, *, init=True, repr=True, eq=True, order=False,\n",
    "              unsafe_hash=False, frozen=False):\n",
    "    \"\"\"Returns the same class as was passed in, with dunder methods\n",
    "    added based on the fields defined in the class.\n",
    "\n",
    "    Examines PEP 526 __annotations__ to determine fields.\n",
    "\n",
    "    If init is true, an __init__() method is added to the class. If\n",
    "    repr is true, a __repr__() method is added. If order is true, rich\n",
    "    comparison dunder methods are added. If unsafe_hash is true, a\n",
    "    __hash__() method function is added. If frozen is true, fields may\n",
    "    not be assigned to after instance creation.\n",
    "    \"\"\"\n",
    "\n",
    "```\n",
    "\n",
    "查看源码,其中有几个方法是默认自动生成的:\n",
    "- `__init__()`:初始化对象\n",
    "- `__repr__()`:将对象转化为供解释器读取的形式,返回结果为字符串\n",
    "- `__eq__()`:判断两个对象的值是否相等\n",
    "\n",
    "其他函数order,unsafe_hash,frozen默认值为False,是不会自动生成的\n",
    "\n",
    "**当然,自定义的类继承和实现自己的方法都是可以的,和之前正常定义类一致**"
   ]
  },
  {
   "cell_type": "code",
   "execution_count": 10,
   "outputs": [
    {
     "name": "stdout",
     "text": [
      "Student(name='张三', age=19, school_name='北京大学')\n",
      "True\n"
     ],
     "output_type": "stream"
    }
   ],
   "source": [
    "from dataclasses import dataclass\n",
    "\n",
    "@dataclass\n",
    "class Student():\n",
    "    name:str\n",
    "    age:str\n",
    "    school_name:str\n",
    "\n",
    "student_1 = Student(\"张三\", 19, '北京大学')\n",
    "print(student_1.__repr__())\n",
    "\n",
    "student_2 = Student(\"张三\", 19, '北京大学')\n",
    "print(student_1 == student_2)"
   ],
   "metadata": {
    "collapsed": false,
    "pycharm": {
     "name": "#%%\n",
     "is_executing": false
    }
   }
  },
  {
   "cell_type": "markdown",
   "source": [
    "\n",
    "### 从初始化中省略字段,即类的成员变量有默认值\n",
    "\n",
    "目前为止我们看到的所有例子，都有一个共同特点——即我们需要为所有被声明的字段传递值，除了有默认值之外。\n",
    "\n",
    "在那种情形下(指有默认值的情况下)，我们可以选择传递值，也可以不传递。"
   ],
   "metadata": {
    "collapsed": false,
    "pycharm": {
     "name": "#%% md\n"
    }
   }
  },
  {
   "cell_type": "code",
   "execution_count": 11,
   "outputs": [
    {
     "name": "stdout",
     "text": [
      "Teacher(name='Tom', age=30, school_name='清华大学')\n",
      "Teacher(name='王五', age=30, school_name='清华大学')\n",
      "Teacher(name='马六', age=42, school_name='北京大学')\n"
     ],
     "output_type": "stream"
    }
   ],
   "source": [
    "@dataclass\n",
    "class Teacher():\n",
    "    name:str = 'Tom'\n",
    "    age:int = 30\n",
    "    school_name: str = '清华大学'\n",
    "\n",
    "teacher = Teacher()  # 不需要传参\n",
    "print(teacher)\n",
    "\n",
    "teacher_2 = Teacher(name='王五')  # 可自定义传参\n",
    "teacher_3 = Teacher('马六',42,'北京大学')  # 可自定义传参\n",
    "print(teacher_2)\n",
    "print(teacher_3)\n"
   ],
   "metadata": {
    "collapsed": false,
    "pycharm": {
     "name": "#%%\n",
     "is_executing": false
    }
   }
  },
  {
   "cell_type": "markdown",
   "source": [
    "### Any\n",
    "如果想要开放限制,允许任意的数据类型,需要导入Any"
   ],
   "metadata": {
    "collapsed": false,
    "pycharm": {
     "name": "#%% md\n"
    }
   }
  },
  {
   "cell_type": "code",
   "execution_count": 12,
   "outputs": [
    {
     "name": "stdout",
     "text": [
      "Student(name='Bob', age=18, school_name=True)\n"
     ],
     "output_type": "stream"
    }
   ],
   "source": [
    "from typing import Any\n",
    "\n",
    "@dataclass\n",
    "class Student():\n",
    "    name: Any\n",
    "    age: Any\n",
    "    school_name: Any = True  # 任意值都可以    \n",
    "\n",
    "student = Student('Bob', 18)\n",
    "print(student)\n"
   ],
   "metadata": {
    "collapsed": false,
    "pycharm": {
     "name": "#%%\n",
     "is_executing": false
    }
   }
  },
  {
   "cell_type": "markdown",
   "source": [
    "### 复合初始化\n",
    "\n",
    "你想要初始化一个变量为列表,一种简单的方式是使用__post_init__方法."
   ],
   "metadata": {
    "collapsed": false,
    "pycharm": {
     "name": "#%% md\n"
    }
   }
  },
  {
   "cell_type": "code",
   "execution_count": 13,
   "outputs": [
    {
     "data": {
      "text/plain": "[81, 81, 75, 100, 84]"
     },
     "metadata": {},
     "output_type": "execute_result",
     "execution_count": 13
    }
   ],
   "source": [
    "import random\n",
    "from typing import List\n",
    "\n",
    "def get_random_marks():\n",
    "    return [random.randint(60,100) for _ in range(5)]\n",
    "\n",
    "@dataclass\n",
    "class Student:\n",
    "    marks:List[int]\n",
    "    \n",
    "    def __post__init__(self):\n",
    "        self.marks = get_random_marks()\n",
    "        \n",
    "student = Student(get_random_marks())\n",
    "student.marks"
   ],
   "metadata": {
    "collapsed": false,
    "pycharm": {
     "name": "#%%\n",
     "is_executing": false
    }
   }
  },
  {
   "cell_type": "markdown",
   "source": [
    "Student类产生了一个名为 marks 的列表。我们不传递 marks 的值，而是使用`__post_init__`方法初始化\n",
    "\n",
    "此外，我们必须在`__post_init__`里调用 get_random_marks 函数,在创建对象时还需要调用get_random_marks()。这些工作是额外的\n",
    "\n",
    "我们可以使用 dataclasses.field 来定制化 dataclass 字段的行为以及它们在 dataclass 的影响。"
   ],
   "metadata": {
    "collapsed": false,
    "pycharm": {
     "name": "#%% md\n"
    }
   }
  },
  {
   "cell_type": "code",
   "execution_count": 14,
   "outputs": [
    {
     "data": {
      "text/plain": "[81, 69, 89, 99, 99]"
     },
     "metadata": {},
     "output_type": "execute_result",
     "execution_count": 14
    }
   ],
   "source": [
    "from dataclasses import field\n",
    "\n",
    "@dataclass\n",
    "class Student:\n",
    "    marks: List[int] = field(default_factory=get_random_marks)\n",
    "\n",
    "student = Student()\n",
    "student.marks"
   ],
   "metadata": {
    "collapsed": false,
    "pycharm": {
     "name": "#%%\n",
     "is_executing": false
    }
   }
  },
  {
   "cell_type": "markdown",
   "source": [
    "dataclasses.field 接受了一个名为 default_factory 的参数，它的作用是：如果在创建对象时没有赋值，则使用该方法初始化该字段。\n",
    "\n",
    "default_factory 必须是一个可以调用的无参数方法(通常为一个函数)。\n",
    "\n",
    "这样我们就可以使用复合形式初始化字段\n",
    "\n",
    "### 实际开发可能会使用全部字段进行数据比较,dataclass又是如何提供便利方案的?\n",
    "\n",
    "dataclass 能够自动生成< , =, >, <=和>=这些比较方法。但是这些比较方法的一个缺陷是，它们使用类中的所有字段进行比较，而这种情况往往不常见\n",
    "\n",
    "你仅想比较用户对象的年龄、身高和体重。你不想比较姓名"
   ],
   "metadata": {
    "collapsed": false,
    "pycharm": {
     "name": "#%% md\n"
    }
   }
  },
  {
   "cell_type": "code",
   "execution_count": 15,
   "outputs": [],
   "source": [
    "@dataclass(order = True)\n",
    "class User:\n",
    "    name: str\n",
    "    age: int\n",
    "    height: float\n",
    "    weight: float"
   ],
   "metadata": {
    "collapsed": false,
    "pycharm": {
     "name": "#%%\n",
     "is_executing": false
    }
   }
  },
  {
   "cell_type": "markdown",
   "source": [
    "自动生成的比较方法会比较一下的数组：\n",
    "\n",
    "`(self.name, self.age, self.height, self.weight, )`\n",
    "\n",
    "这将会破坏我们的意图。我们不想让姓名(name)用于比较。那么，如何使用 dataclasses.field 来实现我们的想法呢?\n",
    "\n",
    "下面是具体步骤:"
   ],
   "metadata": {
    "collapsed": false,
    "pycharm": {
     "name": "#%% md\n"
    }
   }
  },
  {
   "cell_type": "code",
   "execution_count": 18,
   "outputs": [
    {
     "data": {
      "text/plain": "True"
     },
     "metadata": {},
     "output_type": "execute_result",
     "execution_count": 18
    }
   ],
   "source": [
    "@dataclass(order = True)\n",
    "class User:\n",
    "    name: str = field(compare=False)\n",
    "    age: int\n",
    "    height: float\n",
    "    weight: float\n",
    "\n",
    "user_1 = User('Tom', 18, 1.75, 70)\n",
    "user_2 = User('Bob', 20, 1.80, 80)\n",
    "\n",
    "user_1 < user_2"
   ],
   "metadata": {
    "collapsed": false,
    "pycharm": {
     "name": "#%%\n",
     "is_executing": false
    }
   }
  },
  {
   "cell_type": "markdown",
   "source": [
    "默认情况下，所用的字段都用于比较，因此我们仅仅需要指定哪些字段用于比较，而实现方法是直接把不需要的字段定义为 filed(compare=False)。\n",
    "\n",
    "一个更为简单的应用情形也可以被讨论.让我们定义一个数据类，它被用来存储一个数字激起字符串表示。我们想让比较仅仅发生在该数字的值，而不是他的字符串表示。"
   ],
   "metadata": {
    "collapsed": false,
    "pycharm": {
     "name": "#%% md\n"
    }
   }
  },
  {
   "cell_type": "code",
   "execution_count": 21,
   "outputs": [
    {
     "data": {
      "text/plain": "False"
     },
     "metadata": {},
     "output_type": "execute_result",
     "execution_count": 21
    }
   ],
   "source": [
    "@dataclass(order=True)\n",
    "class Number:\n",
    "    string: str\n",
    "    val: int\n",
    "    \n",
    "one = Number('one', 1)\n",
    "nine = Number('nine', 9)\n",
    "\n",
    "one < nine      "
   ],
   "metadata": {
    "collapsed": false,
    "pycharm": {
     "name": "#%%\n",
     "is_executing": false
    }
   }
  },
  {
   "cell_type": "markdown",
   "source": [
    "结果并不是我们想要的,限制只比较数字(和上一个案列类似)"
   ],
   "metadata": {
    "collapsed": false,
    "pycharm": {
     "name": "#%% md\n"
    }
   }
  },
  {
   "cell_type": "code",
   "execution_count": 22,
   "outputs": [
    {
     "data": {
      "text/plain": "True"
     },
     "metadata": {},
     "output_type": "execute_result",
     "execution_count": 22
    }
   ],
   "source": [
    "@dataclass(order=True)\n",
    "class Number:\n",
    "    string: str = field(compare=False)\n",
    "    val: int\n",
    "    \n",
    "one = Number('one', 1)\n",
    "nine = Number('nine', 9)\n",
    "\n",
    "one < nine      \n"
   ],
   "metadata": {
    "collapsed": false,
    "pycharm": {
     "name": "#%%\n",
     "is_executing": false
    }
   }
  },
  {
   "cell_type": "markdown",
   "source": [
    "对! 这才是我们想要的结果, 有时候我们想输出对面每个属性对应的值,并且要指定是哪个对象,又如何实现呢?\n",
    "\n",
    "### 使用全部字段进行数据表示\n",
    "\n",
    "自动生成的`__repr__`方法使用所有的字段用于表示。当然，这也不是大多数情形下的理想选择，尤其是当你的数据类有大量的字段时。单个对象的表示会变得异常臃肿，对调试来说也不利。"
   ],
   "metadata": {
    "collapsed": false,
    "pycharm": {
     "name": "#%% md\n"
    }
   }
  },
  {
   "cell_type": "code",
   "execution_count": 25,
   "outputs": [
    {
     "data": {
      "text/plain": "User(name='Alan', age=20, height=1.7, weight=67, email='123456@gmail.com')"
     },
     "metadata": {},
     "output_type": "execute_result",
     "execution_count": 25
    }
   ],
   "source": [
    "@dataclass\n",
    "class User:\n",
    "    name: str\n",
    "    age: int\n",
    "    height: float\n",
    "    weight: float\n",
    "    email: str\n",
    "    \n",
    "user_3 = User('Alan', 20, 1.70, 67, '123456@gmail.com')\n",
    "user_3"
   ],
   "metadata": {
    "collapsed": false,
    "pycharm": {
     "name": "#%%\n",
     "is_executing": false
    }
   }
  },
  {
   "cell_type": "markdown",
   "source": [
    "想象一下在你的日志里看到这样的表示吧，然后还要写一个正则表达式来搜索它。太可怕了，对吧?\n",
    "\n",
    "当然，我们也能够个性化这种行为。考虑一个类似的使用场景，也许最合适的用于表示的属性是姓名(name),年龄(age)。那么对`__repr__`，我们仅使用它："
   ],
   "metadata": {
    "collapsed": false,
    "pycharm": {
     "name": "#%% md\n"
    }
   }
  },
  {
   "cell_type": "code",
   "execution_count": 28,
   "outputs": [
    {
     "name": "stdout",
     "text": [
      "False\n"
     ],
     "output_type": "stream"
    },
    {
     "data": {
      "text/plain": "User(name='Jack', age=30)"
     },
     "metadata": {},
     "output_type": "execute_result",
     "execution_count": 28
    }
   ],
   "source": [
    "@dataclass(order=True)\n",
    "class User:\n",
    "    name: str = field(compare=False)\n",
    "    age: int\n",
    "    height: float = field(repr=False, compare=False)\n",
    "    weight: float = field(repr=False, compare=False)\n",
    "    email: str = field(repr=False,  compare=False)\n",
    "\n",
    "user_4 = User('Jack', 30, 1.85, 80, '98765@gmail.com')\n",
    "\n",
    "user_5 = User('Block', 20, 1.75, 68, '121212@gmail.com')\n",
    "\n",
    "print(user_4 < user_5)  # Jack年长于Block,我们只关心年龄\n",
    "\n",
    "user_4  # 输出姓名和年龄"
   ],
   "metadata": {
    "collapsed": false,
    "pycharm": {
     "name": "#%%\n",
     "is_executing": false
    }
   }
  },
  {
   "cell_type": "markdown",
   "source": [
    "这样看起来就很棒了。调试很方便，比较也有意义!\n",
    "\n",
    "试想一下,比如我们可能不想在初始化时设定某个字段的值。也许你在追踪一个对象的状态，并且希望它在初始化时一直被设为 False。\n",
    "\n",
    "### 更一般地，这个值在初始化时不能够被传递\n",
    "\n",
    "那么如何操作? default"
   ],
   "metadata": {
    "collapsed": false,
    "pycharm": {
     "name": "#%% md\n"
    }
   }
  },
  {
   "cell_type": "code",
   "source": [
    "@dataclass\n",
    "class People:\n",
    "    name: str\n",
    "    job: str\n",
    "    verified: bool = field(repr=False, init=False, default=False)\n",
    "        # 某一类人,工作不允许校验,从事之后就不能更改\n",
    "\n",
    "eunuch_1 = People('小古子', '太监')\n",
    "print(eunuch_1)\n",
    "\n",
    "eunuch_2 = People('小德子', '太监', True)  # 不允许修改身份\n",
    "print(eunuch_2)"
   ],
   "metadata": {
    "collapsed": false,
    "pycharm": {
     "name": "#%% \n",
     "is_executing": false
    }
   },
   "execution_count": 33,
   "outputs": [
    {
     "name": "stdout",
     "text": [
      "People(name='小古子', job='太监')\n"
     ],
     "output_type": "stream"
    },
    {
     "traceback": [
      "\u001b[1;31m---------------------------------------------------------------------------\u001b[0m",
      "\u001b[1;31mTypeError\u001b[0m                                 Traceback (most recent call last)",
      "\u001b[1;32m<ipython-input-33-8d034494341e>\u001b[0m in \u001b[0;36m<module>\u001b[1;34m\u001b[0m\n\u001b[0;32m      9\u001b[0m \u001b[0mprint\u001b[0m\u001b[1;33m(\u001b[0m\u001b[0meunuch_1\u001b[0m\u001b[1;33m)\u001b[0m\u001b[1;33m\u001b[0m\u001b[1;33m\u001b[0m\u001b[0m\n\u001b[0;32m     10\u001b[0m \u001b[1;33m\u001b[0m\u001b[0m\n\u001b[1;32m---> 11\u001b[1;33m \u001b[0meunuch_2\u001b[0m \u001b[1;33m=\u001b[0m \u001b[0mPeople\u001b[0m\u001b[1;33m(\u001b[0m\u001b[1;34m'小德子'\u001b[0m\u001b[1;33m,\u001b[0m \u001b[1;34m'太监'\u001b[0m\u001b[1;33m,\u001b[0m \u001b[1;32mTrue\u001b[0m\u001b[1;33m)\u001b[0m\u001b[1;33m\u001b[0m\u001b[1;33m\u001b[0m\u001b[0m\n\u001b[0m\u001b[0;32m     12\u001b[0m \u001b[1;33m\u001b[0m\u001b[0m\n\u001b[0;32m     13\u001b[0m \u001b[0mprint\u001b[0m\u001b[1;33m(\u001b[0m\u001b[0meunuch_2\u001b[0m\u001b[1;33m)\u001b[0m\u001b[1;33m\u001b[0m\u001b[1;33m\u001b[0m\u001b[0m\n",
      "\u001b[1;31mTypeError\u001b[0m: __init__() takes 3 positional arguments but 4 were given"
     ],
     "ename": "TypeError",
     "evalue": "__init__() takes 3 positional arguments but 4 were given",
     "output_type": "error"
    }
   ]
  },
  {
   "cell_type": "markdown",
   "source": [
    "### 总结:\n",
    "    \n",
    "dataclass的用法很多,也很灵活,后续还有新知识再补充\n",
    "\n",
    "\n",
    "参考文章:<https://www.baidu.com/link?url=d55eUyYTveqdoW2rrmH8uk8-fZWO7gMkm72lIDpSRgR19N_gniqvAXjfj-9HgxxiuHxL_uDlg52IG0z924ieHa&wd=&eqid=8194527400108816000000025e6a36a5>\n"
   ],
   "metadata": {
    "collapsed": false,
    "pycharm": {
     "name": "#%% md\n"
    }
   }
  }
 ],
 "metadata": {
  "kernelspec": {
   "display_name": "Python 3",
   "language": "python",
   "name": "python3"
  },
  "language_info": {
   "codemirror_mode": {
    "name": "ipython",
    "version": 2
   },
   "file_extension": ".py",
   "mimetype": "text/x-python",
   "name": "python",
   "nbconvert_exporter": "python",
   "pygments_lexer": "ipython2",
   "version": "2.7.6"
  },
  "pycharm": {
   "stem_cell": {
    "cell_type": "raw",
    "source": [],
    "metadata": {
     "collapsed": false
    }
   }
  }
 },
 "nbformat": 4,
 "nbformat_minor": 0
}