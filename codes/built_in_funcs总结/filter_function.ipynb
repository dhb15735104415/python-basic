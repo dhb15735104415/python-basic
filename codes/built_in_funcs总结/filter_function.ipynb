{
 "cells": [
  {
   "cell_type": "markdown",
   "metadata": {
    "collapsed": true,
    "pycharm": {
     "name": "#%% md\n"
    }
   },
   "source": [
    "### filter函数学习\n",
    "```\n",
    " filter(function or None, iterable) --> filter object\n",
    "    \n",
    "    Return an iterator yielding those items of iterable for which function(item)\n",
    "    is true. If function is None, return the items that are true.\n",
    "```\n",
    "返回一个迭代器，该迭代器产生那些针对其function（item）为true的可迭代项。如果function为None，则返回true。\n",
    "\n",
    "当 function 不是 None 的时候为\n",
    "```\n",
    " (item for item in iterable if function(item))\n",
    "```\n",
    "function 是 None 的时候为 \n",
    "```\n",
    "(item for item in iterable if item) \n",
    "```\n",
    "特点:\n",
    "- function返回结果为True或可代表True,如1->True, 0->False\n",
    "- 只有为True的项才会返回,False的项被过滤掉"
   ]
  },
  {
   "cell_type": "code",
   "execution_count": 12,
   "outputs": [
    {
     "name": "stdout",
     "text": [
      "[1, 2, 1, 5]\n",
      "[1, 2, 1, 5]\n"
     ],
     "output_type": "stream"
    }
   ],
   "source": [
    "list_num = [1, 2, 0, 1, 5, 0]\n",
    "\n",
    "# 去除为0的元素\n",
    "r = filter(lambda x : True if x > 0 else False, list_num)\n",
    "print(list(r))\n",
    "\n",
    "# 在Python中0为False (负数不为False)\n",
    "r = filter(lambda x : x, list_num)\n",
    "print(list(r))"
   ],
   "metadata": {
    "collapsed": false,
    "pycharm": {
     "name": "#%%\n",
     "is_executing": false
    }
   }
  },
  {
   "cell_type": "code",
   "execution_count": 15,
   "outputs": [
    {
     "name": "stdout",
     "text": [
      "['D', 'R', 'E']\n",
      "20\n"
     ],
     "output_type": "stream"
    }
   ],
   "source": [
    "list_str = ['a','D','h','R','E']\n",
    "\n",
    "# 去掉为小写字母的元素\n",
    "import re \n",
    "r = filter(lambda x: True if x in re.findall(r'[A-Z]',x) else False, list_str)\n",
    "print(list(r))"
   ],
   "metadata": {
    "collapsed": false,
    "pycharm": {
     "name": "#%%\n",
     "is_executing": false
    }
   }
  }
 ],
 "metadata": {
  "kernelspec": {
   "display_name": "Python 3",
   "language": "python",
   "name": "python3"
  },
  "language_info": {
   "codemirror_mode": {
    "name": "ipython",
    "version": 2
   },
   "file_extension": ".py",
   "mimetype": "text/x-python",
   "name": "python",
   "nbconvert_exporter": "python",
   "pygments_lexer": "ipython2",
   "version": "2.7.6"
  },
  "pycharm": {
   "stem_cell": {
    "cell_type": "raw",
    "source": [],
    "metadata": {
     "collapsed": false
    }
   }
  }
 },
 "nbformat": 4,
 "nbformat_minor": 0
}