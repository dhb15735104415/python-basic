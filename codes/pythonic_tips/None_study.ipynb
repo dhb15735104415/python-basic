{
 "cells": [
  {
   "cell_type": "markdown",
   "metadata": {
    "collapsed": true,
    "pycharm": {
     "name": "#%% md\n"
    }
   },
   "source": [
    "Python中的None,表示空,不存在\n",
    "\n",
    "无论是从类型还是值来研究,None既不等于空字符,也不等于空列表,也不等于0\n",
    "\n",
    "总之,None是一个独立对象"
   ]
  },
  {
   "cell_type": "code",
   "execution_count": 1,
   "outputs": [
    {
     "name": "stdout",
     "text": [
      "False\n",
      "False\n",
      "False\n"
     ],
     "output_type": "stream"
    }
   ],
   "source": [
    "# 值判断\n",
    "\n",
    "a = []\n",
    "b = False\n",
    "c = \"\"\n",
    "\n",
    "print(a == None)\n",
    "print(b == None)\n",
    "print(c == None)\n",
    "\n",
    "# 结果全为False"
   ],
   "metadata": {
    "collapsed": false,
    "pycharm": {
     "name": "#%%\n",
     "is_executing": false
    }
   }
  },
  {
   "cell_type": "code",
   "execution_count": 2,
   "outputs": [
    {
     "name": "stdout",
     "text": [
      "False\n",
      "False\n",
      "False\n"
     ],
     "output_type": "stream"
    }
   ],
   "source": [
    "# 类型判断\n",
    "print(a is None)\n",
    "print(b is None)\n",
    "print(c is None)\n",
    "\n",
    "# 结果也全为False"
   ],
   "metadata": {
    "collapsed": false,
    "pycharm": {
     "name": "#%%\n",
     "is_executing": false
    }
   }
  },
  {
   "cell_type": "code",
   "execution_count": 3,
   "outputs": [
    {
     "name": "stdout",
     "text": [
      "<class 'NoneType'>\n"
     ],
     "output_type": "stream"
    }
   ],
   "source": [
    "# 因为None是一个对象,独立的NoneType\n",
    "print(type(None))"
   ],
   "metadata": {
    "collapsed": false,
    "pycharm": {
     "name": "#%%\n",
     "is_executing": false
    }
   }
  },
  {
   "cell_type": "markdown",
   "source": [
    "## 判空操作\n",
    "\n",
    "xxx is None, 这是错误且危险的写法.\n",
    "\n",
    "因为在实际开发中,很有可能调接口失败或者业务代码逻辑在处理时,数据错误返回空列表[]或者{}等\n",
    "\n",
    "然后就会写:\n",
    "``` \n",
    "if result is None:\n",
    "    //错误结果,返回异常逻辑等\n",
    "else:\n",
    "    //正确结果,接着正确的业务逻辑\n",
    "```"
   ],
   "metadata": {
    "collapsed": false,
    "pycharm": {
     "name": "#%% md\n"
    }
   }
  },
  {
   "cell_type": "code",
   "execution_count": 5,
   "outputs": [
    {
     "name": "stdout",
     "text": [
      "True\n",
      "False\n"
     ],
     "output_type": "stream"
    }
   ],
   "source": [
    "# xx is None错误写法测试\n",
    "\n",
    "result = []\n",
    "\n",
    "if not result:\n",
    "    print(True)\n",
    "else:\n",
    "    print(False)\n",
    "\n",
    "if result is None:\n",
    "    print(True)  # 意识中认为会执行这段代码\n",
    "else:\n",
    "    print(False)"
   ],
   "metadata": {
    "collapsed": false,
    "pycharm": {
     "name": "#%%\n",
     "is_executing": false
    }
   }
  },
  {
   "cell_type": "markdown",
   "source": [
    "但实际上却执行了else分支的代码,因为None无论是从类型还是值来研究,既不等于空字符,也不等于空列表,也不等于0\n",
    "\n",
    "xxx is None这是很严重的错误写法,正确应为:\n",
    "\n",
    "if xx  或 if not xx"
   ],
   "metadata": {
    "collapsed": false,
    "pycharm": {
     "name": "#%% md\n"
    }
   }
  },
  {
   "cell_type": "code",
   "execution_count": 12,
   "outputs": [
    {
     "name": "stdout",
     "text": [
      "False\n"
     ],
     "output_type": "stream"
    }
   ],
   "source": [
    "if result:\n",
    "    print(True)\n",
    "\n",
    "if not result:\n",
    "    print(False)"
   ],
   "metadata": {
    "collapsed": false,
    "pycharm": {
     "name": "#%%\n",
     "is_executing": false
    }
   }
  },
  {
   "cell_type": "code",
   "execution_count": 13,
   "outputs": [
    {
     "name": "stdout",
     "text": [
      "False\n"
     ],
     "output_type": "stream"
    }
   ],
   "source": [
    "# 即使result为None也能正确处理\n",
    "result = None\n",
    "if result:\n",
    "    print(True)\n",
    "\n",
    "if not result:\n",
    "    print(False)\n"
   ],
   "metadata": {
    "collapsed": false,
    "pycharm": {
     "name": "#%%\n",
     "is_executing": false
    }
   }
  }
 ],
 "metadata": {
  "kernelspec": {
   "display_name": "Python 3",
   "language": "python",
   "name": "python3"
  },
  "language_info": {
   "codemirror_mode": {
    "name": "ipython",
    "version": 2
   },
   "file_extension": ".py",
   "mimetype": "text/x-python",
   "name": "python",
   "nbconvert_exporter": "python",
   "pygments_lexer": "ipython2",
   "version": "2.7.6"
  },
  "pycharm": {
   "stem_cell": {
    "cell_type": "raw",
    "source": [],
    "metadata": {
     "collapsed": false
    }
   }
  }
 },
 "nbformat": 4,
 "nbformat_minor": 0
}